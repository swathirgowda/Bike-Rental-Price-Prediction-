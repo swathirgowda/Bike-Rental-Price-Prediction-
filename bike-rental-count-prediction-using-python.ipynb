{
 "cells": [
  {
   "cell_type": "markdown",
   "metadata": {},
   "source": [
    "**Project title :- Bike Renting using Python**"
   ]
  },
  {
   "cell_type": "markdown",
   "metadata": {},
   "source": [
    "**Problem statement :-**"
   ]
  },
  {
   "cell_type": "markdown",
   "metadata": {},
   "source": [
    "The objective of this Case is to Predication of bike rental count on daily based on the environmental and seasonal settings."
   ]
  },
  {
   "cell_type": "markdown",
   "metadata": {},
   "source": [
    "**Contents :-**\n",
    "             \n",
    "        1. Exploratory Data Analysis\n",
    "           * Loading the dataset and libraries\n",
    "           * Data cleaning\n",
    "           * Typecasting the attributes\n",
    "           * Missing value analysis\n",
    "        2. Attributes distributions and trends\n",
    "           * Monthly distribution of counts\n",
    "           * Yearly distribution of counts\n",
    "           * Outliers analysis\n",
    "        3. Normality test\n",
    "        4. Correlation matrix \n",
    "        5. Split the dataset into train and test dataset\n",
    "        6. Encoding the categorical features\n",
    "        7. Modelling the training dataset\n",
    "           * Linear Regression Model\n",
    "           * Decision Tree Regressor Model\n",
    "           * Random Forest Model\n",
    "        8. Cross Validation Prediction\n",
    "           * Linear Regression CV Prediction\n",
    "           * Decision Tree Regressor CV Prediction\n",
    "           * Random Forest CV Prediction\n",
    "        9. Model performance on test dataset\n",
    "           * Linear Regression Prediction\n",
    "           * Decision Tree Regressor Prediction\n",
    "           * Random Forest Prediction\n",
    "        10. Model Evaluation Metrics\n",
    "           * R-squared score\n",
    "           * Root mean square error\n",
    "           * Mean absolute error\n",
    "        11.Choosing best model for predicting bike rental count"
   ]
  },
  {
   "cell_type": "markdown",
   "metadata": {},
   "source": [
    "**Exploratory Data Analysis**"
   ]
  },
  {
   "cell_type": "markdown",
   "metadata": {},
   "source": [
    "**Import the required libraries**"
   ]
  },
  {
   "cell_type": "code",
   "execution_count": 1,
   "metadata": {
    "_cell_guid": "b1076dfc-b9ad-4769-8c92-a6c4dae69d19",
    "_uuid": "8f2839f25d086af736a60e9eeb907d3b93b6e0e5"
   },
   "outputs": [
    {
     "name": "stdout",
     "output_type": "stream",
     "text": [
      "['day.csv', 'Readme.txt', 'hour.csv']\n"
     ]
    }
   ],
   "source": [
    "import numpy as np \n",
    "import pandas as pd\n",
    "import matplotlib.pyplot as plt\n",
    "import seaborn as sns\n",
    "from sklearn.model_selection import train_test_split\n",
    "import warnings\n",
    "warnings.filterwarnings('ignore')\n",
    "import os\n",
    "print(os.listdir(\"../input\"))\n",
    "\n"
   ]
  },
  {
   "cell_type": "markdown",
   "metadata": {},
   "source": [
    "**Read the training data**"
   ]
  },
  {
   "cell_type": "code",
   "execution_count": 2,
   "metadata": {
    "_cell_guid": "79c7e3d0-c299-4dcb-8224-4455121ee9b0",
    "_uuid": "d629ff2d2480ee46fbb7e2d37f6b5fab8052498a"
   },
   "outputs": [],
   "source": [
    "#import the csv file\n",
    "bike_df=pd.read_csv(\"../input/day.csv\")"
   ]
  },
  {
   "cell_type": "markdown",
   "metadata": {},
   "source": [
    "**Shape of the dataset**"
   ]
  },
  {
   "cell_type": "code",
   "execution_count": 3,
   "metadata": {},
   "outputs": [
    {
     "data": {
      "text/plain": [
       "(731, 16)"
      ]
     },
     "execution_count": 3,
     "metadata": {},
     "output_type": "execute_result"
    }
   ],
   "source": [
    "#Shape of the dataset\n",
    "bike_df.shape"
   ]
  },
  {
   "cell_type": "markdown",
   "metadata": {},
   "source": [
    "The dataset contains 731 observations and 16 attributes."
   ]
  },
  {
   "cell_type": "markdown",
   "metadata": {},
   "source": [
    "**Data types**"
   ]
  },
  {
   "cell_type": "code",
   "execution_count": 4,
   "metadata": {},
   "outputs": [
    {
     "data": {
      "text/plain": [
       "instant         int64\n",
       "dteday         object\n",
       "season          int64\n",
       "yr              int64\n",
       "mnth            int64\n",
       "holiday         int64\n",
       "weekday         int64\n",
       "workingday      int64\n",
       "weathersit      int64\n",
       "temp          float64\n",
       "atemp         float64\n",
       "hum           float64\n",
       "windspeed     float64\n",
       "casual          int64\n",
       "registered      int64\n",
       "cnt             int64\n",
       "dtype: object"
      ]
     },
     "execution_count": 4,
     "metadata": {},
     "output_type": "execute_result"
    }
   ],
   "source": [
    "#Data types\n",
    "bike_df.dtypes"
   ]
  },
  {
   "cell_type": "code",
   "execution_count": 5,
   "metadata": {},
   "outputs": [
    {
     "data": {
      "text/html": [
       "<div>\n",
       "<style scoped>\n",
       "    .dataframe tbody tr th:only-of-type {\n",
       "        vertical-align: middle;\n",
       "    }\n",
       "\n",
       "    .dataframe tbody tr th {\n",
       "        vertical-align: top;\n",
       "    }\n",
       "\n",
       "    .dataframe thead th {\n",
       "        text-align: right;\n",
       "    }\n",
       "</style>\n",
       "<table border=\"1\" class=\"dataframe\">\n",
       "  <thead>\n",
       "    <tr style=\"text-align: right;\">\n",
       "      <th></th>\n",
       "      <th>instant</th>\n",
       "      <th>dteday</th>\n",
       "      <th>season</th>\n",
       "      <th>yr</th>\n",
       "      <th>mnth</th>\n",
       "      <th>holiday</th>\n",
       "      <th>weekday</th>\n",
       "      <th>workingday</th>\n",
       "      <th>weathersit</th>\n",
       "      <th>temp</th>\n",
       "      <th>atemp</th>\n",
       "      <th>hum</th>\n",
       "      <th>windspeed</th>\n",
       "      <th>casual</th>\n",
       "      <th>registered</th>\n",
       "      <th>cnt</th>\n",
       "    </tr>\n",
       "  </thead>\n",
       "  <tbody>\n",
       "    <tr>\n",
       "      <th>0</th>\n",
       "      <td>1</td>\n",
       "      <td>2011-01-01</td>\n",
       "      <td>1</td>\n",
       "      <td>0</td>\n",
       "      <td>1</td>\n",
       "      <td>0</td>\n",
       "      <td>6</td>\n",
       "      <td>0</td>\n",
       "      <td>2</td>\n",
       "      <td>0.344167</td>\n",
       "      <td>0.363625</td>\n",
       "      <td>0.805833</td>\n",
       "      <td>0.160446</td>\n",
       "      <td>331</td>\n",
       "      <td>654</td>\n",
       "      <td>985</td>\n",
       "    </tr>\n",
       "    <tr>\n",
       "      <th>1</th>\n",
       "      <td>2</td>\n",
       "      <td>2011-01-02</td>\n",
       "      <td>1</td>\n",
       "      <td>0</td>\n",
       "      <td>1</td>\n",
       "      <td>0</td>\n",
       "      <td>0</td>\n",
       "      <td>0</td>\n",
       "      <td>2</td>\n",
       "      <td>0.363478</td>\n",
       "      <td>0.353739</td>\n",
       "      <td>0.696087</td>\n",
       "      <td>0.248539</td>\n",
       "      <td>131</td>\n",
       "      <td>670</td>\n",
       "      <td>801</td>\n",
       "    </tr>\n",
       "    <tr>\n",
       "      <th>2</th>\n",
       "      <td>3</td>\n",
       "      <td>2011-01-03</td>\n",
       "      <td>1</td>\n",
       "      <td>0</td>\n",
       "      <td>1</td>\n",
       "      <td>0</td>\n",
       "      <td>1</td>\n",
       "      <td>1</td>\n",
       "      <td>1</td>\n",
       "      <td>0.196364</td>\n",
       "      <td>0.189405</td>\n",
       "      <td>0.437273</td>\n",
       "      <td>0.248309</td>\n",
       "      <td>120</td>\n",
       "      <td>1229</td>\n",
       "      <td>1349</td>\n",
       "    </tr>\n",
       "    <tr>\n",
       "      <th>3</th>\n",
       "      <td>4</td>\n",
       "      <td>2011-01-04</td>\n",
       "      <td>1</td>\n",
       "      <td>0</td>\n",
       "      <td>1</td>\n",
       "      <td>0</td>\n",
       "      <td>2</td>\n",
       "      <td>1</td>\n",
       "      <td>1</td>\n",
       "      <td>0.200000</td>\n",
       "      <td>0.212122</td>\n",
       "      <td>0.590435</td>\n",
       "      <td>0.160296</td>\n",
       "      <td>108</td>\n",
       "      <td>1454</td>\n",
       "      <td>1562</td>\n",
       "    </tr>\n",
       "    <tr>\n",
       "      <th>4</th>\n",
       "      <td>5</td>\n",
       "      <td>2011-01-05</td>\n",
       "      <td>1</td>\n",
       "      <td>0</td>\n",
       "      <td>1</td>\n",
       "      <td>0</td>\n",
       "      <td>3</td>\n",
       "      <td>1</td>\n",
       "      <td>1</td>\n",
       "      <td>0.226957</td>\n",
       "      <td>0.229270</td>\n",
       "      <td>0.436957</td>\n",
       "      <td>0.186900</td>\n",
       "      <td>82</td>\n",
       "      <td>1518</td>\n",
       "      <td>1600</td>\n",
       "    </tr>\n",
       "  </tbody>\n",
       "</table>\n",
       "</div>"
      ],
      "text/plain": [
       "   instant      dteday  season  yr  ...   windspeed  casual  registered   cnt\n",
       "0        1  2011-01-01       1   0  ...    0.160446     331         654   985\n",
       "1        2  2011-01-02       1   0  ...    0.248539     131         670   801\n",
       "2        3  2011-01-03       1   0  ...    0.248309     120        1229  1349\n",
       "3        4  2011-01-04       1   0  ...    0.160296     108        1454  1562\n",
       "4        5  2011-01-05       1   0  ...    0.186900      82        1518  1600\n",
       "\n",
       "[5 rows x 16 columns]"
      ]
     },
     "execution_count": 5,
     "metadata": {},
     "output_type": "execute_result"
    }
   ],
   "source": [
    "#Read the data\n",
    "bike_df.head(5)"
   ]
  },
  {
   "cell_type": "markdown",
   "metadata": {},
   "source": [
    "**Rename the columns for better understanding of variables**"
   ]
  },
  {
   "cell_type": "code",
   "execution_count": 6,
   "metadata": {},
   "outputs": [],
   "source": [
    "#Rename the columns\n",
    "bike_df.rename(columns={'instant':'rec_id','dteday':'datetime','yr':'year','mnth':'month','weathersit':'weather_condition',\n",
    "                       'hum':'humidity','cnt':'total_count'},inplace=True)"
   ]
  },
  {
   "cell_type": "code",
   "execution_count": 7,
   "metadata": {},
   "outputs": [
    {
     "data": {
      "text/html": [
       "<div>\n",
       "<style scoped>\n",
       "    .dataframe tbody tr th:only-of-type {\n",
       "        vertical-align: middle;\n",
       "    }\n",
       "\n",
       "    .dataframe tbody tr th {\n",
       "        vertical-align: top;\n",
       "    }\n",
       "\n",
       "    .dataframe thead th {\n",
       "        text-align: right;\n",
       "    }\n",
       "</style>\n",
       "<table border=\"1\" class=\"dataframe\">\n",
       "  <thead>\n",
       "    <tr style=\"text-align: right;\">\n",
       "      <th></th>\n",
       "      <th>rec_id</th>\n",
       "      <th>datetime</th>\n",
       "      <th>season</th>\n",
       "      <th>year</th>\n",
       "      <th>month</th>\n",
       "      <th>holiday</th>\n",
       "      <th>weekday</th>\n",
       "      <th>workingday</th>\n",
       "      <th>weather_condition</th>\n",
       "      <th>temp</th>\n",
       "      <th>atemp</th>\n",
       "      <th>humidity</th>\n",
       "      <th>windspeed</th>\n",
       "      <th>casual</th>\n",
       "      <th>registered</th>\n",
       "      <th>total_count</th>\n",
       "    </tr>\n",
       "  </thead>\n",
       "  <tbody>\n",
       "    <tr>\n",
       "      <th>0</th>\n",
       "      <td>1</td>\n",
       "      <td>2011-01-01</td>\n",
       "      <td>1</td>\n",
       "      <td>0</td>\n",
       "      <td>1</td>\n",
       "      <td>0</td>\n",
       "      <td>6</td>\n",
       "      <td>0</td>\n",
       "      <td>2</td>\n",
       "      <td>0.344167</td>\n",
       "      <td>0.363625</td>\n",
       "      <td>0.805833</td>\n",
       "      <td>0.160446</td>\n",
       "      <td>331</td>\n",
       "      <td>654</td>\n",
       "      <td>985</td>\n",
       "    </tr>\n",
       "    <tr>\n",
       "      <th>1</th>\n",
       "      <td>2</td>\n",
       "      <td>2011-01-02</td>\n",
       "      <td>1</td>\n",
       "      <td>0</td>\n",
       "      <td>1</td>\n",
       "      <td>0</td>\n",
       "      <td>0</td>\n",
       "      <td>0</td>\n",
       "      <td>2</td>\n",
       "      <td>0.363478</td>\n",
       "      <td>0.353739</td>\n",
       "      <td>0.696087</td>\n",
       "      <td>0.248539</td>\n",
       "      <td>131</td>\n",
       "      <td>670</td>\n",
       "      <td>801</td>\n",
       "    </tr>\n",
       "    <tr>\n",
       "      <th>2</th>\n",
       "      <td>3</td>\n",
       "      <td>2011-01-03</td>\n",
       "      <td>1</td>\n",
       "      <td>0</td>\n",
       "      <td>1</td>\n",
       "      <td>0</td>\n",
       "      <td>1</td>\n",
       "      <td>1</td>\n",
       "      <td>1</td>\n",
       "      <td>0.196364</td>\n",
       "      <td>0.189405</td>\n",
       "      <td>0.437273</td>\n",
       "      <td>0.248309</td>\n",
       "      <td>120</td>\n",
       "      <td>1229</td>\n",
       "      <td>1349</td>\n",
       "    </tr>\n",
       "    <tr>\n",
       "      <th>3</th>\n",
       "      <td>4</td>\n",
       "      <td>2011-01-04</td>\n",
       "      <td>1</td>\n",
       "      <td>0</td>\n",
       "      <td>1</td>\n",
       "      <td>0</td>\n",
       "      <td>2</td>\n",
       "      <td>1</td>\n",
       "      <td>1</td>\n",
       "      <td>0.200000</td>\n",
       "      <td>0.212122</td>\n",
       "      <td>0.590435</td>\n",
       "      <td>0.160296</td>\n",
       "      <td>108</td>\n",
       "      <td>1454</td>\n",
       "      <td>1562</td>\n",
       "    </tr>\n",
       "    <tr>\n",
       "      <th>4</th>\n",
       "      <td>5</td>\n",
       "      <td>2011-01-05</td>\n",
       "      <td>1</td>\n",
       "      <td>0</td>\n",
       "      <td>1</td>\n",
       "      <td>0</td>\n",
       "      <td>3</td>\n",
       "      <td>1</td>\n",
       "      <td>1</td>\n",
       "      <td>0.226957</td>\n",
       "      <td>0.229270</td>\n",
       "      <td>0.436957</td>\n",
       "      <td>0.186900</td>\n",
       "      <td>82</td>\n",
       "      <td>1518</td>\n",
       "      <td>1600</td>\n",
       "    </tr>\n",
       "  </tbody>\n",
       "</table>\n",
       "</div>"
      ],
      "text/plain": [
       "   rec_id    datetime  season     ...       casual  registered  total_count\n",
       "0       1  2011-01-01       1     ...          331         654          985\n",
       "1       2  2011-01-02       1     ...          131         670          801\n",
       "2       3  2011-01-03       1     ...          120        1229         1349\n",
       "3       4  2011-01-04       1     ...          108        1454         1562\n",
       "4       5  2011-01-05       1     ...           82        1518         1600\n",
       "\n",
       "[5 rows x 16 columns]"
      ]
     },
     "execution_count": 7,
     "metadata": {},
     "output_type": "execute_result"
    }
   ],
   "source": [
    "#Read the data\n",
    "bike_df.head(5)"
   ]
  },
  {
   "cell_type": "markdown",
   "metadata": {},
   "source": [
    "**Typecasting the datetime and numerical attributes**"
   ]
  },
  {
   "cell_type": "code",
   "execution_count": 8,
   "metadata": {},
   "outputs": [],
   "source": [
    "#Type casting the datetime and numerical attributes to category\n",
    "\n",
    "bike_df['datetime']=pd.to_datetime(bike_df.datetime)\n",
    "\n",
    "bike_df['season']=bike_df.season.astype('category')\n",
    "bike_df['year']=bike_df.year.astype('category')\n",
    "bike_df['month']=bike_df.month.astype('category')\n",
    "bike_df['holiday']=bike_df.holiday.astype('category')\n",
    "bike_df['weekday']=bike_df.weekday.astype('category')\n",
    "bike_df['workingday']=bike_df.workingday.astype('category')\n",
    "bike_df['weather_condition']=bike_df.weather_condition.astype('category')"
   ]
  },
  {
   "cell_type": "code",
   "execution_count": 9,
   "metadata": {},
   "outputs": [
    {
     "data": {
      "text/html": [
       "<div>\n",
       "<style scoped>\n",
       "    .dataframe tbody tr th:only-of-type {\n",
       "        vertical-align: middle;\n",
       "    }\n",
       "\n",
       "    .dataframe tbody tr th {\n",
       "        vertical-align: top;\n",
       "    }\n",
       "\n",
       "    .dataframe thead th {\n",
       "        text-align: right;\n",
       "    }\n",
       "</style>\n",
       "<table border=\"1\" class=\"dataframe\">\n",
       "  <thead>\n",
       "    <tr style=\"text-align: right;\">\n",
       "      <th></th>\n",
       "      <th>rec_id</th>\n",
       "      <th>temp</th>\n",
       "      <th>atemp</th>\n",
       "      <th>humidity</th>\n",
       "      <th>windspeed</th>\n",
       "      <th>casual</th>\n",
       "      <th>registered</th>\n",
       "      <th>total_count</th>\n",
       "    </tr>\n",
       "  </thead>\n",
       "  <tbody>\n",
       "    <tr>\n",
       "      <th>count</th>\n",
       "      <td>731.000000</td>\n",
       "      <td>731.000000</td>\n",
       "      <td>731.000000</td>\n",
       "      <td>731.000000</td>\n",
       "      <td>731.000000</td>\n",
       "      <td>731.000000</td>\n",
       "      <td>731.000000</td>\n",
       "      <td>731.000000</td>\n",
       "    </tr>\n",
       "    <tr>\n",
       "      <th>mean</th>\n",
       "      <td>366.000000</td>\n",
       "      <td>0.495385</td>\n",
       "      <td>0.474354</td>\n",
       "      <td>0.627894</td>\n",
       "      <td>0.190486</td>\n",
       "      <td>848.176471</td>\n",
       "      <td>3656.172367</td>\n",
       "      <td>4504.348837</td>\n",
       "    </tr>\n",
       "    <tr>\n",
       "      <th>std</th>\n",
       "      <td>211.165812</td>\n",
       "      <td>0.183051</td>\n",
       "      <td>0.162961</td>\n",
       "      <td>0.142429</td>\n",
       "      <td>0.077498</td>\n",
       "      <td>686.622488</td>\n",
       "      <td>1560.256377</td>\n",
       "      <td>1937.211452</td>\n",
       "    </tr>\n",
       "    <tr>\n",
       "      <th>min</th>\n",
       "      <td>1.000000</td>\n",
       "      <td>0.059130</td>\n",
       "      <td>0.079070</td>\n",
       "      <td>0.000000</td>\n",
       "      <td>0.022392</td>\n",
       "      <td>2.000000</td>\n",
       "      <td>20.000000</td>\n",
       "      <td>22.000000</td>\n",
       "    </tr>\n",
       "    <tr>\n",
       "      <th>25%</th>\n",
       "      <td>183.500000</td>\n",
       "      <td>0.337083</td>\n",
       "      <td>0.337842</td>\n",
       "      <td>0.520000</td>\n",
       "      <td>0.134950</td>\n",
       "      <td>315.500000</td>\n",
       "      <td>2497.000000</td>\n",
       "      <td>3152.000000</td>\n",
       "    </tr>\n",
       "    <tr>\n",
       "      <th>50%</th>\n",
       "      <td>366.000000</td>\n",
       "      <td>0.498333</td>\n",
       "      <td>0.486733</td>\n",
       "      <td>0.626667</td>\n",
       "      <td>0.180975</td>\n",
       "      <td>713.000000</td>\n",
       "      <td>3662.000000</td>\n",
       "      <td>4548.000000</td>\n",
       "    </tr>\n",
       "    <tr>\n",
       "      <th>75%</th>\n",
       "      <td>548.500000</td>\n",
       "      <td>0.655417</td>\n",
       "      <td>0.608602</td>\n",
       "      <td>0.730209</td>\n",
       "      <td>0.233214</td>\n",
       "      <td>1096.000000</td>\n",
       "      <td>4776.500000</td>\n",
       "      <td>5956.000000</td>\n",
       "    </tr>\n",
       "    <tr>\n",
       "      <th>max</th>\n",
       "      <td>731.000000</td>\n",
       "      <td>0.861667</td>\n",
       "      <td>0.840896</td>\n",
       "      <td>0.972500</td>\n",
       "      <td>0.507463</td>\n",
       "      <td>3410.000000</td>\n",
       "      <td>6946.000000</td>\n",
       "      <td>8714.000000</td>\n",
       "    </tr>\n",
       "  </tbody>\n",
       "</table>\n",
       "</div>"
      ],
      "text/plain": [
       "           rec_id        temp     ...        registered  total_count\n",
       "count  731.000000  731.000000     ...        731.000000   731.000000\n",
       "mean   366.000000    0.495385     ...       3656.172367  4504.348837\n",
       "std    211.165812    0.183051     ...       1560.256377  1937.211452\n",
       "min      1.000000    0.059130     ...         20.000000    22.000000\n",
       "25%    183.500000    0.337083     ...       2497.000000  3152.000000\n",
       "50%    366.000000    0.498333     ...       3662.000000  4548.000000\n",
       "75%    548.500000    0.655417     ...       4776.500000  5956.000000\n",
       "max    731.000000    0.861667     ...       6946.000000  8714.000000\n",
       "\n",
       "[8 rows x 8 columns]"
      ]
     },
     "execution_count": 9,
     "metadata": {},
     "output_type": "execute_result"
    }
   ],
   "source": [
    "#Summary of the dataset\n",
    "bike_df.describe()"
   ]
  },
  {
   "cell_type": "markdown",
   "metadata": {},
   "source": [
    "**Missing value analysis**"
   ]
  },
  {
   "cell_type": "markdown",
   "metadata": {},
   "source": [
    "No missing values present in training dataset."
   ]
  },
  {
   "cell_type": "code",
   "execution_count": 10,
   "metadata": {},
   "outputs": [
    {
     "data": {
      "text/plain": [
       "rec_id               0\n",
       "datetime             0\n",
       "season               0\n",
       "year                 0\n",
       "month                0\n",
       "holiday              0\n",
       "weekday              0\n",
       "workingday           0\n",
       "weather_condition    0\n",
       "temp                 0\n",
       "atemp                0\n",
       "humidity             0\n",
       "windspeed            0\n",
       "casual               0\n",
       "registered           0\n",
       "total_count          0\n",
       "dtype: int64"
      ]
     },
     "execution_count": 10,
     "metadata": {},
     "output_type": "execute_result"
    }
   ],
   "source": [
    "#Missing values in dataset\n",
    "bike_df.isnull().sum()"
   ]
  },
  {
   "cell_type": "markdown",
   "metadata": {},
   "source": [
    "**Attributes distributions and trends**"
   ]
  },
  {
   "cell_type": "markdown",
   "metadata": {},
   "source": [
    "**Monthly distribution of counts**"
   ]
  },
  {
   "cell_type": "code",
   "execution_count": 11,
   "metadata": {},
   "outputs": [
    {
     "data": {
      "image/png": "[encoded data removed]",
      "text/plain": [
       "<Figure size 1080x576 with 1 Axes>"
      ]
     },
     "metadata": {},
     "output_type": "display_data"
    },
    {
     "data": {
      "image/png": "[encoded data removed]",
      "text/plain": [
       "<Figure size 1080x576 with 1 Axes>"
      ]
     },
     "metadata": {},
     "output_type": "display_data"
    }
   ],
   "source": [
    "fig,ax=plt.subplots(figsize=(15,8))\n",
    "sns.set_style('white')\n",
    "#Bar plot for seasonwise monthly distribution of counts\n",
    "sns.barplot(x='month',y='total_count',data=bike_df[['month','total_count','season']],hue='season',ax=ax)\n",
    "ax.set_title('Seasonwise monthly distribution of counts')\n",
    "plt.show()\n",
    "#Bar plot for weekday wise monthly distribution of counts\n",
    "fig,ax1=plt.subplots(figsize=(15,8))\n",
    "sns.barplot(x='month',y='total_count',data=bike_df[['month','total_count','weekday']],hue='weekday',ax=ax1)\n",
    "ax1.set_title('Weekday wise monthly distribution of counts')\n",
    "plt.show()"
   ]
  },
  {
   "cell_type": "markdown",
   "metadata": {},
   "source": [
    "From the above plots, we can observed that increasing the bike rental count in springe and summer season and then decreasing the bike rental count in fall and winter season.\n",
    "Here, \n",
    "\n",
    "season 1-> spring season 2 -> summer season 3 -> fall season 4 -> winter"
   ]
  },
  {
   "cell_type": "markdown",
   "metadata": {},
   "source": [
    "**Yearly wise distribution of counts**"
   ]
  },
  {
   "cell_type": "code",
   "execution_count": 12,
   "metadata": {},
   "outputs": [
    {
     "data": {
      "image/png": "[encoded data removed]",
      "text/plain": [
       "<Figure size 1080x576 with 1 Axes>"
      ]
     },
     "metadata": {},
     "output_type": "display_data"
    }
   ],
   "source": [
    "fig,ax=plt.subplots(figsize=(15,8))\n",
    "#Violin plot for yearly distribution of counts\n",
    "sns.violinplot(x='year',y='total_count',data=bike_df[['year','total_count']])\n",
    "ax.set_title('Yearly distribution of counts')\n",
    "plt.show()"
   ]
  },
  {
   "cell_type": "markdown",
   "metadata": {},
   "source": [
    "From the violin plot, we can observed that the bike rental count distribution is highest in year 2012 then in year 2011. \n",
    "\n",
    "Here,  \n",
    "year 0-> 2011, year 1-> 2012"
   ]
  },
  {
   "cell_type": "markdown",
   "metadata": {},
   "source": [
    "**Holiday wise distribution of counts**"
   ]
  },
  {
   "cell_type": "code",
   "execution_count": 13,
   "metadata": {},
   "outputs": [
    {
     "data": {
      "image/png": "[encoded data removed]",
      "text/plain": [
       "<Figure size 1080x576 with 1 Axes>"
      ]
     },
     "metadata": {},
     "output_type": "display_data"
    }
   ],
   "source": [
    "fig,ax=plt.subplots(figsize=(15,8))\n",
    "#Barplot for Holiday distribution of counts\n",
    "sns.barplot(data=bike_df,x='holiday',y='total_count',hue='season')\n",
    "ax.set_title('Holiday wise distribution of counts')\n",
    "plt.show()"
   ]
  },
  {
   "cell_type": "markdown",
   "metadata": {},
   "source": [
    "From the above bar plot, we can observed that during no holiday the bike rental counts is highest compared to during holiday for different seasons.\n",
    "\n",
    "Here, 0->No holiday, 1-> holiday"
   ]
  },
  {
   "cell_type": "markdown",
   "metadata": {},
   "source": [
    "**Workingday wise distribution of counts**"
   ]
  },
  {
   "cell_type": "code",
   "execution_count": 14,
   "metadata": {},
   "outputs": [
    {
     "data": {
      "image/png": "[encoded data removed]",
      "text/plain": [
       "<Figure size 1080x576 with 1 Axes>"
      ]
     },
     "metadata": {},
     "output_type": "display_data"
    }
   ],
   "source": [
    "fig,ax=plt.subplots(figsize=(15,8))\n",
    "#Bar plot for workingday distribution of counts\n",
    "sns.barplot(data=bike_df,x='workingday',y='total_count',hue='season')\n",
    "ax.set_title('Workingday wise distribution of counts')\n",
    "plt.show()"
   ]
  },
  {
   "cell_type": "markdown",
   "metadata": {},
   "source": [
    "From the above bar plot, we can observed that during workingday the bike rental counts is quite highest compared to during no workingday for different seasons.\n",
    "\n",
    "Here, 0-> No workingday, 1-> workingday"
   ]
  },
  {
   "cell_type": "markdown",
   "metadata": {},
   "source": [
    "**Weather_condition distribution of counts**"
   ]
  },
  {
   "cell_type": "code",
   "execution_count": 15,
   "metadata": {},
   "outputs": [
    {
     "data": {
      "image/png": "[encoded data removed]",
      "text/plain": [
       "<Figure size 1080x576 with 1 Axes>"
      ]
     },
     "metadata": {},
     "output_type": "display_data"
    }
   ],
   "source": [
    "fig,ax1=plt.subplots(figsize=(15,8))\n",
    "#Bar plot for weather_condition distribution of counts\n",
    "sns.barplot(x='weather_condition',y='total_count',data=bike_df[['month','total_count','weather_condition']],ax=ax1)\n",
    "ax1.set_title('Weather_condition wise monthly distribution of counts')\n",
    "plt.show()"
   ]
  },
  {
   "cell_type": "markdown",
   "metadata": {},
   "source": [
    "From the above bar plot, we can observed that during clear,partly cloudy weather the bike rental count is highest and the second highest is during mist cloudy weather and followed by third highest during light snow and light rain weather."
   ]
  },
  {
   "cell_type": "markdown",
   "metadata": {},
   "source": [
    "**Outlier analysis**"
   ]
  },
  {
   "cell_type": "markdown",
   "metadata": {},
   "source": [
    "**Total_Count_Outliers**"
   ]
  },
  {
   "cell_type": "code",
   "execution_count": 16,
   "metadata": {},
   "outputs": [
    {
     "data": {
      "image/png": "[encoded data removed]",
      "text/plain": [
       "<Figure size 1080x576 with 1 Axes>"
      ]
     },
     "metadata": {},
     "output_type": "display_data"
    }
   ],
   "source": [
    "fig,ax=plt.subplots(figsize=(15,8))\n",
    "#Boxplot for total_count outliers\n",
    "sns.boxplot(data=bike_df[['total_count']])\n",
    "ax.set_title('total_count outliers')\n",
    "plt.show()"
   ]
  },
  {
   "cell_type": "markdown",
   "metadata": {},
   "source": [
    "From the box plot, we can observed that no outliers are present in total_count variable."
   ]
  },
  {
   "cell_type": "markdown",
   "metadata": {},
   "source": [
    "**Temp_windspeed_humidity_outliers**"
   ]
  },
  {
   "cell_type": "code",
   "execution_count": 17,
   "metadata": {},
   "outputs": [
    {
     "data": {
      "image/png": "[encoded data removed]",
      "text/plain": [
       "<Figure size 1080x576 with 1 Axes>"
      ]
     },
     "metadata": {},
     "output_type": "display_data"
    }
   ],
   "source": [
    "fig,ax=plt.subplots(figsize=(15,8))\n",
    "#Box plot for Temp_windspeed_humidity_outliers\n",
    "sns.boxplot(data=bike_df[['temp','windspeed','humidity']])\n",
    "ax.set_title('Temp_windspeed_humidity_outiers')\n",
    "plt.show()"
   ]
  },
  {
   "cell_type": "markdown",
   "metadata": {},
   "source": [
    "From the box plot, we can observed that no outliers are present in normalized temp but few outliers are present in normalized windspeed and humidity variable."
   ]
  },
  {
   "cell_type": "markdown",
   "metadata": {},
   "source": [
    "**Replace and impute the outliers**"
   ]
  },
  {
   "cell_type": "code",
   "execution_count": 18,
   "metadata": {},
   "outputs": [
    {
     "name": "stderr",
     "output_type": "stream",
     "text": [
      "Using TensorFlow backend.\n"
     ]
    }
   ],
   "source": [
    "from fancyimpute import KNN\n",
    "\n",
    "#create dataframe for outliers\n",
    "wind_hum=pd.DataFrame(bike_df,columns=['windspeed','humidity'])\n",
    " #Cnames for outliers                     \n",
    "cnames=['windspeed','humidity']       \n",
    "                      \n",
    "for i in cnames:\n",
    "    q75,q25=np.percentile(wind_hum.loc[:,i],[75,25]) # Divide data into 75%quantile and 25%quantile.\n",
    "    iqr=q75-q25 #Inter quantile range\n",
    "    min=q25-(iqr*1.5) #inner fence\n",
    "    max=q75+(iqr*1.5) #outer fence\n",
    "    wind_hum.loc[wind_hum.loc[:,i]<min,:i]=np.nan  #Replace with NA\n",
    "    wind_hum.loc[wind_hum.loc[:,i]>max,:i]=np.nan  #Replace with NA\n",
    "#Imputating the outliers by mean Imputation\n",
    "wind_hum['windspeed']=wind_hum['windspeed'].fillna(wind_hum['windspeed'].mean())\n",
    "wind_hum['humidity']=wind_hum['humidity'].fillna(wind_hum['humidity'].mean())"
   ]
  },
  {
   "cell_type": "markdown",
   "metadata": {},
   "source": [
    "**Replace the original dataset to imputated data**"
   ]
  },
  {
   "cell_type": "code",
   "execution_count": 19,
   "metadata": {},
   "outputs": [
    {
     "data": {
      "text/html": [
       "<div>\n",
       "<style scoped>\n",
       "    .dataframe tbody tr th:only-of-type {\n",
       "        vertical-align: middle;\n",
       "    }\n",
       "\n",
       "    .dataframe tbody tr th {\n",
       "        vertical-align: top;\n",
       "    }\n",
       "\n",
       "    .dataframe thead th {\n",
       "        text-align: right;\n",
       "    }\n",
       "</style>\n",
       "<table border=\"1\" class=\"dataframe\">\n",
       "  <thead>\n",
       "    <tr style=\"text-align: right;\">\n",
       "      <th></th>\n",
       "      <th>rec_id</th>\n",
       "      <th>datetime</th>\n",
       "      <th>season</th>\n",
       "      <th>year</th>\n",
       "      <th>month</th>\n",
       "      <th>holiday</th>\n",
       "      <th>weekday</th>\n",
       "      <th>workingday</th>\n",
       "      <th>weather_condition</th>\n",
       "      <th>temp</th>\n",
       "      <th>atemp</th>\n",
       "      <th>humidity</th>\n",
       "      <th>windspeed</th>\n",
       "      <th>casual</th>\n",
       "      <th>registered</th>\n",
       "      <th>total_count</th>\n",
       "    </tr>\n",
       "  </thead>\n",
       "  <tbody>\n",
       "    <tr>\n",
       "      <th>0</th>\n",
       "      <td>1</td>\n",
       "      <td>2011-01-01</td>\n",
       "      <td>1</td>\n",
       "      <td>0</td>\n",
       "      <td>1</td>\n",
       "      <td>0</td>\n",
       "      <td>6</td>\n",
       "      <td>0</td>\n",
       "      <td>2</td>\n",
       "      <td>0.344167</td>\n",
       "      <td>0.363625</td>\n",
       "      <td>0.805833</td>\n",
       "      <td>0.160446</td>\n",
       "      <td>331</td>\n",
       "      <td>654</td>\n",
       "      <td>985</td>\n",
       "    </tr>\n",
       "    <tr>\n",
       "      <th>1</th>\n",
       "      <td>2</td>\n",
       "      <td>2011-01-02</td>\n",
       "      <td>1</td>\n",
       "      <td>0</td>\n",
       "      <td>1</td>\n",
       "      <td>0</td>\n",
       "      <td>0</td>\n",
       "      <td>0</td>\n",
       "      <td>2</td>\n",
       "      <td>0.363478</td>\n",
       "      <td>0.353739</td>\n",
       "      <td>0.696087</td>\n",
       "      <td>0.248539</td>\n",
       "      <td>131</td>\n",
       "      <td>670</td>\n",
       "      <td>801</td>\n",
       "    </tr>\n",
       "    <tr>\n",
       "      <th>2</th>\n",
       "      <td>3</td>\n",
       "      <td>2011-01-03</td>\n",
       "      <td>1</td>\n",
       "      <td>0</td>\n",
       "      <td>1</td>\n",
       "      <td>0</td>\n",
       "      <td>1</td>\n",
       "      <td>1</td>\n",
       "      <td>1</td>\n",
       "      <td>0.196364</td>\n",
       "      <td>0.189405</td>\n",
       "      <td>0.437273</td>\n",
       "      <td>0.248309</td>\n",
       "      <td>120</td>\n",
       "      <td>1229</td>\n",
       "      <td>1349</td>\n",
       "    </tr>\n",
       "    <tr>\n",
       "      <th>3</th>\n",
       "      <td>4</td>\n",
       "      <td>2011-01-04</td>\n",
       "      <td>1</td>\n",
       "      <td>0</td>\n",
       "      <td>1</td>\n",
       "      <td>0</td>\n",
       "      <td>2</td>\n",
       "      <td>1</td>\n",
       "      <td>1</td>\n",
       "      <td>0.200000</td>\n",
       "      <td>0.212122</td>\n",
       "      <td>0.590435</td>\n",
       "      <td>0.160296</td>\n",
       "      <td>108</td>\n",
       "      <td>1454</td>\n",
       "      <td>1562</td>\n",
       "    </tr>\n",
       "    <tr>\n",
       "      <th>4</th>\n",
       "      <td>5</td>\n",
       "      <td>2011-01-05</td>\n",
       "      <td>1</td>\n",
       "      <td>0</td>\n",
       "      <td>1</td>\n",
       "      <td>0</td>\n",
       "      <td>3</td>\n",
       "      <td>1</td>\n",
       "      <td>1</td>\n",
       "      <td>0.226957</td>\n",
       "      <td>0.229270</td>\n",
       "      <td>0.436957</td>\n",
       "      <td>0.186900</td>\n",
       "      <td>82</td>\n",
       "      <td>1518</td>\n",
       "      <td>1600</td>\n",
       "    </tr>\n",
       "  </tbody>\n",
       "</table>\n",
       "</div>"
      ],
      "text/plain": [
       "   rec_id   datetime season     ...     casual registered total_count\n",
       "0       1 2011-01-01      1     ...        331        654         985\n",
       "1       2 2011-01-02      1     ...        131        670         801\n",
       "2       3 2011-01-03      1     ...        120       1229        1349\n",
       "3       4 2011-01-04      1     ...        108       1454        1562\n",
       "4       5 2011-01-05      1     ...         82       1518        1600\n",
       "\n",
       "[5 rows x 16 columns]"
      ]
     },
     "execution_count": 19,
     "metadata": {},
     "output_type": "execute_result"
    }
   ],
   "source": [
    "#Replacing the imputated windspeed\n",
    "bike_df['windspeed']=bike_df['windspeed'].replace(wind_hum['windspeed'])\n",
    "#Replacing the imputated humidity\n",
    "bike_df['humidity']=bike_df['humidity'].replace(wind_hum['humidity'])\n",
    "bike_df.head(5)"
   ]
  },
  {
   "cell_type": "markdown",
   "metadata": {},
   "source": [
    "**Normal Probability Plot**"
   ]
  },
  {
   "cell_type": "markdown",
   "metadata": {},
   "source": [
    "Normal probability plot is a graphical technique to identify substantive departures from normality and also it tells about goodness of fit."
   ]
  },
  {
   "cell_type": "code",
   "execution_count": 20,
   "metadata": {},
   "outputs": [
    {
     "data": {
      "image/png": "[encoded data removed]",
      "text/plain": [
       "<Figure size 1080x576 with 1 Axes>"
      ]
     },
     "metadata": {},
     "output_type": "display_data"
    }
   ],
   "source": [
    "import scipy\n",
    "from scipy import stats\n",
    "#Normal plot\n",
    "fig=plt.figure(figsize=(15,8))\n",
    "stats.probplot(bike_df.total_count.tolist(),dist='norm',plot=plt)\n",
    "plt.show()"
   ]
  },
  {
   "cell_type": "markdown",
   "metadata": {},
   "source": [
    "The above probability plot, the some target variable data points are deviates from normality."
   ]
  },
  {
   "cell_type": "markdown",
   "metadata": {},
   "source": [
    "**Correlation matrix**"
   ]
  },
  {
   "cell_type": "markdown",
   "metadata": {},
   "source": [
    "Correlation matrix is tells about linear relationship between attributes and help us to build better models."
   ]
  },
  {
   "cell_type": "code",
   "execution_count": 21,
   "metadata": {},
   "outputs": [
    {
     "data": {
      "image/png": "[encoded data removed]",
      "text/plain": [
       "<Figure size 1080x576 with 2 Axes>"
      ]
     },
     "metadata": {},
     "output_type": "display_data"
    }
   ],
   "source": [
    "#Create the correlation matrix\n",
    "correMtr=bike_df[[\"temp\",\"atemp\",\"humidity\",\"windspeed\",\"casual\",\"registered\",\"total_count\"]].corr()\n",
    "mask=np.array(correMtr)\n",
    "mask[np.tril_indices_from(mask)]=False\n",
    "#Heat map for correlation matrix of attributes\n",
    "fig,ax=plt.subplots(figsize=(15,8))\n",
    "sns.heatmap(correMtr,mask=mask,vmax=0.8,square=True,annot=True,ax=ax)\n",
    "ax.set_title('Correlation matrix of attributes')\n",
    "plt.show()"
   ]
  },
  {
   "cell_type": "markdown",
   "metadata": {},
   "source": [
    "From correlation plot, we can observed that some features are positively correlated or some are negatively correlated to each other. The temp and atemp are highly positively correlated to each other, it means that both are carrying same information.The total_count,casual and registered are highly positively correlated to each other. So, we are going to ignore atemp,casual and registered variable for further analysis."
   ]
  },
  {
   "cell_type": "markdown",
   "metadata": {},
   "source": [
    "**Modelling the dataset**"
   ]
  },
  {
   "cell_type": "code",
   "execution_count": 22,
   "metadata": {},
   "outputs": [],
   "source": [
    "#load the required libraries\n",
    "from sklearn import preprocessing,metrics,linear_model\n",
    "from sklearn.model_selection import cross_val_score,cross_val_predict,train_test_split"
   ]
  },
  {
   "cell_type": "markdown",
   "metadata": {},
   "source": [
    "Split the dataset into train and test in the ratio of 70:30"
   ]
  },
  {
   "cell_type": "code",
   "execution_count": 23,
   "metadata": {},
   "outputs": [
    {
     "name": "stdout",
     "output_type": "stream",
     "text": [
      "(511, 14) (220, 14) (511, 2) (220, 2)\n",
      "   index  total_count\n",
      "0    223         4905\n",
      "1    684         5445\n",
      "2    685         5698\n",
      "3    163         5020\n",
      "4    394         3624\n",
      "   index  total_count\n",
      "0    703         6606\n",
      "1     33         1550\n",
      "2    300         3747\n",
      "3    456         6041\n",
      "4    633         7538\n"
     ]
    }
   ],
   "source": [
    "#Split the dataset into the train and test data\n",
    "from sklearn.model_selection import train_test_split\n",
    "X_train,X_test,y_train,y_test=train_test_split(bike_df.iloc[:,0:-3],bike_df.iloc[:,-1],test_size=0.3, random_state=42)\n",
    "\n",
    "#Reset train index values\n",
    "X_train.reset_index(inplace=True)\n",
    "y_train=y_train.reset_index()\n",
    "\n",
    "# Reset train index values\n",
    "X_test.reset_index(inplace=True)\n",
    "y_test=y_test.reset_index()\n",
    "\n",
    "print(X_train.shape,X_test.shape,y_train.shape,y_test.shape)\n",
    "print(y_train.head())\n",
    "print(y_test.head())"
   ]
  },
  {
   "cell_type": "markdown",
   "metadata": {},
   "source": [
    "**Split the features into categorical and numerical features**"
   ]
  },
  {
   "cell_type": "code",
   "execution_count": 24,
   "metadata": {},
   "outputs": [],
   "source": [
    "#Create a new dataset for train attributes\n",
    "train_attributes=X_train[['season','month','year','weekday','holiday','workingday','weather_condition','humidity','temp','windspeed']]\n",
    "#Create a new dataset for test attributes\n",
    "test_attributes=X_test[['season','month','year','weekday','holiday','workingday','humidity','temp','windspeed','weather_condition']]\n",
    "#categorical attributes\n",
    "cat_attributes=['season','holiday','workingday','weather_condition','year']\n",
    "#numerical attributes\n",
    "num_attributes=['temp','windspeed','humidity','month','weekday']"
   ]
  },
  {
   "cell_type": "markdown",
   "metadata": {},
   "source": [
    "**Decoding the training attributes**"
   ]
  },
  {
   "cell_type": "code",
   "execution_count": 25,
   "metadata": {},
   "outputs": [
    {
     "name": "stdout",
     "output_type": "stream",
     "text": [
      "Shape of transfomed dataframe:: (511, 18)\n"
     ]
    },
    {
     "data": {
      "text/html": [
       "<div>\n",
       "<style scoped>\n",
       "    .dataframe tbody tr th:only-of-type {\n",
       "        vertical-align: middle;\n",
       "    }\n",
       "\n",
       "    .dataframe tbody tr th {\n",
       "        vertical-align: top;\n",
       "    }\n",
       "\n",
       "    .dataframe thead th {\n",
       "        text-align: right;\n",
       "    }\n",
       "</style>\n",
       "<table border=\"1\" class=\"dataframe\">\n",
       "  <thead>\n",
       "    <tr style=\"text-align: right;\">\n",
       "      <th></th>\n",
       "      <th>month</th>\n",
       "      <th>weekday</th>\n",
       "      <th>humidity</th>\n",
       "      <th>temp</th>\n",
       "      <th>windspeed</th>\n",
       "      <th>season_1</th>\n",
       "      <th>season_2</th>\n",
       "      <th>season_3</th>\n",
       "      <th>season_4</th>\n",
       "      <th>holiday_0</th>\n",
       "      <th>holiday_1</th>\n",
       "      <th>workingday_0</th>\n",
       "      <th>workingday_1</th>\n",
       "      <th>weather_condition_1</th>\n",
       "      <th>weather_condition_2</th>\n",
       "      <th>weather_condition_3</th>\n",
       "      <th>year_0</th>\n",
       "      <th>year_1</th>\n",
       "    </tr>\n",
       "  </thead>\n",
       "  <tbody>\n",
       "    <tr>\n",
       "      <th>0</th>\n",
       "      <td>8</td>\n",
       "      <td>5</td>\n",
       "      <td>0.415000</td>\n",
       "      <td>0.708333</td>\n",
       "      <td>0.125621</td>\n",
       "      <td>0</td>\n",
       "      <td>0</td>\n",
       "      <td>1</td>\n",
       "      <td>0</td>\n",
       "      <td>1</td>\n",
       "      <td>0</td>\n",
       "      <td>0</td>\n",
       "      <td>1</td>\n",
       "      <td>1</td>\n",
       "      <td>0</td>\n",
       "      <td>0</td>\n",
       "      <td>1</td>\n",
       "      <td>0</td>\n",
       "    </tr>\n",
       "    <tr>\n",
       "      <th>1</th>\n",
       "      <td>11</td>\n",
       "      <td>4</td>\n",
       "      <td>0.620417</td>\n",
       "      <td>0.321667</td>\n",
       "      <td>0.152987</td>\n",
       "      <td>0</td>\n",
       "      <td>0</td>\n",
       "      <td>0</td>\n",
       "      <td>1</td>\n",
       "      <td>1</td>\n",
       "      <td>0</td>\n",
       "      <td>0</td>\n",
       "      <td>1</td>\n",
       "      <td>0</td>\n",
       "      <td>1</td>\n",
       "      <td>0</td>\n",
       "      <td>0</td>\n",
       "      <td>1</td>\n",
       "    </tr>\n",
       "    <tr>\n",
       "      <th>2</th>\n",
       "      <td>11</td>\n",
       "      <td>5</td>\n",
       "      <td>0.524583</td>\n",
       "      <td>0.345000</td>\n",
       "      <td>0.171025</td>\n",
       "      <td>0</td>\n",
       "      <td>0</td>\n",
       "      <td>0</td>\n",
       "      <td>1</td>\n",
       "      <td>1</td>\n",
       "      <td>0</td>\n",
       "      <td>0</td>\n",
       "      <td>1</td>\n",
       "      <td>1</td>\n",
       "      <td>0</td>\n",
       "      <td>0</td>\n",
       "      <td>0</td>\n",
       "      <td>1</td>\n",
       "    </tr>\n",
       "    <tr>\n",
       "      <th>3</th>\n",
       "      <td>6</td>\n",
       "      <td>1</td>\n",
       "      <td>0.494583</td>\n",
       "      <td>0.635000</td>\n",
       "      <td>0.305350</td>\n",
       "      <td>0</td>\n",
       "      <td>1</td>\n",
       "      <td>0</td>\n",
       "      <td>0</td>\n",
       "      <td>1</td>\n",
       "      <td>0</td>\n",
       "      <td>0</td>\n",
       "      <td>1</td>\n",
       "      <td>1</td>\n",
       "      <td>0</td>\n",
       "      <td>0</td>\n",
       "      <td>1</td>\n",
       "      <td>0</td>\n",
       "    </tr>\n",
       "    <tr>\n",
       "      <th>4</th>\n",
       "      <td>1</td>\n",
       "      <td>1</td>\n",
       "      <td>0.400833</td>\n",
       "      <td>0.269167</td>\n",
       "      <td>0.215792</td>\n",
       "      <td>1</td>\n",
       "      <td>0</td>\n",
       "      <td>0</td>\n",
       "      <td>0</td>\n",
       "      <td>1</td>\n",
       "      <td>0</td>\n",
       "      <td>0</td>\n",
       "      <td>1</td>\n",
       "      <td>1</td>\n",
       "      <td>0</td>\n",
       "      <td>0</td>\n",
       "      <td>0</td>\n",
       "      <td>1</td>\n",
       "    </tr>\n",
       "  </tbody>\n",
       "</table>\n",
       "</div>"
      ],
      "text/plain": [
       "  month weekday  humidity   ...    weather_condition_3  year_0  year_1\n",
       "0     8       5  0.415000   ...                      0       1       0\n",
       "1    11       4  0.620417   ...                      0       0       1\n",
       "2    11       5  0.524583   ...                      0       0       1\n",
       "3     6       1  0.494583   ...                      0       1       0\n",
       "4     1       1  0.400833   ...                      0       0       1\n",
       "\n",
       "[5 rows x 18 columns]"
      ]
     },
     "execution_count": 25,
     "metadata": {},
     "output_type": "execute_result"
    }
   ],
   "source": [
    "#To get dummy variables to encode the categorical features to numeric\n",
    "train_encoded_attributes=pd.get_dummies(train_attributes,columns=cat_attributes)\n",
    "print('Shape of transfomed dataframe::',train_encoded_attributes.shape)\n",
    "train_encoded_attributes.head(5)"
   ]
  },
  {
   "cell_type": "markdown",
   "metadata": {},
   "source": [
    "**Training dataset**"
   ]
  },
  {
   "cell_type": "code",
   "execution_count": 26,
   "metadata": {},
   "outputs": [],
   "source": [
    "#Training dataset for modelling\n",
    "X_train=train_encoded_attributes\n",
    "y_train=y_train.total_count.values"
   ]
  },
  {
   "cell_type": "markdown",
   "metadata": {},
   "source": [
    "**Linear Regression Model**"
   ]
  },
  {
   "cell_type": "code",
   "execution_count": 27,
   "metadata": {},
   "outputs": [
    {
     "data": {
      "text/plain": [
       "LinearRegression(copy_X=True, fit_intercept=True, n_jobs=None,\n",
       "         normalize=False)"
      ]
     },
     "execution_count": 27,
     "metadata": {},
     "output_type": "execute_result"
    }
   ],
   "source": [
    "#training model\n",
    "lr_model=linear_model.LinearRegression()\n",
    "lr_model"
   ]
  },
  {
   "cell_type": "markdown",
   "metadata": {},
   "source": [
    "**fit the training model**"
   ]
  },
  {
   "cell_type": "code",
   "execution_count": 28,
   "metadata": {},
   "outputs": [
    {
     "data": {
      "text/plain": [
       "LinearRegression(copy_X=True, fit_intercept=True, n_jobs=None,\n",
       "         normalize=False)"
      ]
     },
     "execution_count": 28,
     "metadata": {},
     "output_type": "execute_result"
    }
   ],
   "source": [
    "#fit the trained model\n",
    "lr_model.fit(X_train,y_train)"
   ]
  },
  {
   "cell_type": "markdown",
   "metadata": {},
   "source": [
    "**Accuracy of model**"
   ]
  },
  {
   "cell_type": "code",
   "execution_count": 29,
   "metadata": {},
   "outputs": [
    {
     "name": "stdout",
     "output_type": "stream",
     "text": [
      "Accuracy of the model : 0.8165025087335218\n",
      "Model coefficients : [  -25.40093273    69.00041734 -1021.83801516  5265.83269167\n",
      " -2556.15204574  -949.34444399   229.82675107   -79.72789531\n",
      "   799.24558823   228.48467064  -228.48467064   -78.95445063\n",
      "    78.95445063   761.85445399   252.23446226 -1014.08891625\n",
      "  -989.30080604   989.30080604]\n",
      "Model intercept value : 2195.3105623488354\n"
     ]
    }
   ],
   "source": [
    "#Accuracy of the model\n",
    "lr=lr_model.score(X_train,y_train)\n",
    "print('Accuracy of the model :',lr)\n",
    "print('Model coefficients :',lr_model.coef_)\n",
    "print('Model intercept value :',lr_model.intercept_)"
   ]
  },
  {
   "cell_type": "markdown",
   "metadata": {},
   "source": [
    "**Cross validation prediction**"
   ]
  },
  {
   "cell_type": "code",
   "execution_count": 30,
   "metadata": {},
   "outputs": [
    {
     "data": {
      "text/plain": [
       "array([ 5248.7578435 ,  5038.5615668 ,  5806.79339316,  4353.94868702,\n",
       "        3738.02165465,  6781.13199665,  6258.53686563,  3802.32154757,\n",
       "        4679.69060739,  3413.26938345,  5382.26926795,  3103.26413427,\n",
       "        4340.14502978,  5792.02135524,  4357.90482085,  6307.47067538,\n",
       "        4382.53420011,  3356.51602988,   722.55880035,   542.99629923,\n",
       "        7419.07107033,  3747.2639444 ,  5282.38323084,  5494.01243603,\n",
       "        6941.05375802,  7322.95928003,  3629.5886932 ,  3571.12912785,\n",
       "         985.45343201,  4884.05952005,  1644.73801661,  1708.88196943,\n",
       "        1689.90104258,  1295.63879625,  4891.47726849,  5507.81236621,\n",
       "        6015.17425095,  4180.63057735,  5075.38404498,  5941.56769703,\n",
       "        6400.40498745,  4215.81855312,  5962.38814912,  6052.71452714,\n",
       "        3345.73314148,  4096.72004817,  1465.44713372,  3603.17274178,\n",
       "        4587.89942466,  6650.65699064,  1719.93360965,  6128.15135134,\n",
       "        6439.33525805,  3277.84008997,  4592.0786174 ,  3194.61235   ,\n",
       "        1039.88280183,  2100.09613678,   674.30772486,  5224.66730386,\n",
       "        5314.19870803,  4911.06477305,  3739.39082172,  6130.33989227,\n",
       "        5968.45404858,  6295.95877962,  3954.66011045,  3161.72304418,\n",
       "        3512.46233642,  4003.13186901,  2093.3677567 ,  3827.30167223,\n",
       "        6815.93521048,  4135.6591103 ,  4774.56844943,  2452.30835041,\n",
       "        3534.02173852,  4559.07413217,   -80.13110702,  3780.96495495,\n",
       "        4209.2573621 ,  5018.8490244 ,  4014.31054791,  2522.05802453,\n",
       "        6379.32086471,  3758.08076547,  3963.70346595,  6857.23289985,\n",
       "        4468.69327818,  3646.68591468,  1679.07590025,  3349.16374649,\n",
       "        1413.84032115,  6584.71977541,  6228.8522581 ,  4525.24989433,\n",
       "        3621.41590824,  5024.80981436,  3158.99701117,  1894.42556815,\n",
       "        2661.69174676,  3782.07824139,  5688.56741915,  4854.81563596,\n",
       "        3433.99423773,  6034.8877613 ,  6487.83242733,  7001.6389009 ,\n",
       "        4472.20009687,  6364.06616143,  3206.63812555,  3884.45830175,\n",
       "        1964.66801377,  3320.10969996,  4768.11361833,  2609.16521029,\n",
       "        5948.87053442,  4102.45821637,  1609.40133185,  2709.63783098,\n",
       "        4492.38383371,  3433.58537988,  4832.22105954,  5668.91506398,\n",
       "        6696.47683976,  5999.3365819 ,  4876.9804128 ,  3844.07111493,\n",
       "        7119.74773459,  4288.23361221,  6092.17812689,  4495.4422446 ,\n",
       "        3748.14881943,  6235.51941401,  6940.0886107 ,  5138.70260425,\n",
       "        4072.15746453,  5393.17403548,  4055.88151468,  2901.38279759,\n",
       "        7090.36866639,  3530.06748949,  3437.89836177,  5357.35803769,\n",
       "        3737.56116112,  4343.07354639,  4130.62547043,  2784.12775673,\n",
       "        1262.95634462,  4957.2337275 ,  7131.81091712,  4025.9618221 ,\n",
       "        6272.927947  ,  1121.76529347,  3894.19289799,  1412.23346792,\n",
       "       -1080.60059589,  7343.9965627 ,  4420.96119647,  1043.93191501,\n",
       "        7122.93902903,  4693.44706057,  3743.25298687,  5276.11451025,\n",
       "        4774.84841795,  5149.25360319,  4435.40472163,  6435.05522501,\n",
       "        3083.62731793,  4516.24346931,  3545.50138165,  4877.22875094,\n",
       "        4258.66689769,  1153.91971821,  6186.03769679,  1757.69975291,\n",
       "        6101.96704411,  5097.54048061,  4817.16807671,   822.74025349,\n",
       "        5923.54774155,  3669.98628533,  4408.10039681,  3073.61825193,\n",
       "        1373.94740226,  4593.20011568,  5356.3154055 ,  5317.79523838,\n",
       "        4323.42818435,  2818.94372265,  4989.8189471 ,  1134.86886087,\n",
       "        3244.0992691 ,  7547.16258195,  5445.92780291,  6858.42732376,\n",
       "        6533.96802008,  5826.08009284,  1831.46589177,  5376.03129393,\n",
       "        1761.06296062,  6537.26236634,  7571.17110195,  4012.85703479,\n",
       "         303.57125752,  2992.99925533,  5301.66896575,  4940.60509917,\n",
       "        1478.31443559,  6960.30576601,  6759.13861314,  3823.20271816,\n",
       "        5178.09460324,  4289.11838946,  4064.7782468 ,  4410.45636163,\n",
       "        6017.67168343,  3407.21975983,  1559.08667193,  7120.48376218,\n",
       "        3610.84591656,  5006.26782421,  1536.79783396,  1986.74861173,\n",
       "        4680.35788079,  1854.00108678,  5162.39594079,  4898.94493463,\n",
       "        4859.94703625,  3903.15656291,  4326.81673116,  3748.98138642,\n",
       "        4704.73461379,  6390.80692179,  4170.57158517,  6915.73396799,\n",
       "        4722.31478286,  6620.3525888 ,  6102.45541467,  5188.68350633,\n",
       "        6710.28512763,  6146.90528016,  5589.95034317,  7216.57059488,\n",
       "        6176.77411055,  1128.82366247,  5781.50171278,  5116.77826384,\n",
       "        5050.07431718,  5771.4900678 ,  4617.97462346,  3519.72673024,\n",
       "        5041.25087677,  5828.04993986,  3767.67779651,  3511.98966543,\n",
       "        6627.09271149,  6133.01999038,  5364.77282422,  6908.9575722 ,\n",
       "        6505.69868321,  2883.86415736,  4304.92291325,  6900.08826651,\n",
       "        6490.86577409,  4388.43227108,  3566.04040203,  3810.88383415,\n",
       "        6861.54726462,  6666.23365523,  1499.53601346,  4402.24821332,\n",
       "        2324.53110779,  6108.24251268,  3999.79738263,  1927.73284242,\n",
       "        4872.49769432,  3232.20810783,  5251.49535236,  5328.0949106 ,\n",
       "        6587.38701179,  6439.21589299,  6740.2902446 ,  5886.67815986,\n",
       "         517.63955345,  6500.55364893,  5823.71591531,  6782.96748593,\n",
       "        1557.64197371,  6119.18192394,  4531.45591893,  4105.64877904,\n",
       "        3827.04811127,  7739.62283782,  7083.78701349,  5819.70975161,\n",
       "        3333.36739867,  4457.94790494,  2866.21319974,  5642.96505651,\n",
       "        7124.18610817,  6677.39588095,  6056.09585253,  4636.84656389,\n",
       "        5037.66947797,  7085.27128711,  4939.37718174,  7208.65033799,\n",
       "        3545.96391162,  6089.94318947,  2402.51030935,  4790.34938432,\n",
       "        2879.44722109,  6553.5252112 ,  4280.59350481,  4773.33102707,\n",
       "        4292.82800881,  5056.63127051,  4323.33816564,  2794.4456495 ,\n",
       "        3813.7623656 ,  3748.33578471,  5712.11132944,  5477.97134308,\n",
       "        4140.8407895 ,  3240.88641435,  5674.69098961,  4617.66211334,\n",
       "        4340.93753776,  6472.01503942,  4298.30127383,  4942.22929694,\n",
       "        5754.15173531,  6437.91791835,  5054.19085183,  5719.90902567,\n",
       "        2158.20100014,  5286.51702319,  6966.77404895,  4435.42060999,\n",
       "        4341.73662672,  6513.18084875,  3050.70086048,  4062.91529074,\n",
       "        7143.08533508,  3061.66867472,  4478.01843698,  6791.92099791,\n",
       "        4263.43891307,  4371.98107738,  5933.16891231,  1215.80360279,\n",
       "        3265.22580108,  4463.75741442,  3913.79869183,  3395.47829666,\n",
       "        4179.80992118,  5058.24444519,  5633.47619833,  6545.81419463,\n",
       "        3351.7068003 ,  6131.09366253,  5244.74356598,  5285.66363014,\n",
       "        6566.55916089,  6265.49428606,  5655.61729096,  6370.87129097,\n",
       "        6711.08901528,  1888.53835934,  4876.50847676,  5599.14849217,\n",
       "        7214.60503848,  1024.85735516,  6868.92408246,  4085.73054489,\n",
       "        5336.82243818,  5715.50570511,  6121.91638786,  3381.20922084,\n",
       "        7695.80267476,  4398.67120485,  7301.71145973,  5905.85542579,\n",
       "        8037.54886575,  5190.08097121,  5201.23939842,  4230.21592216,\n",
       "        4117.82621548,  5774.07592695,  4281.02306168,  1849.45596244,\n",
       "        6311.73035284,  6471.75727899,  7382.52607618,  2662.4737848 ,\n",
       "        7556.28472177,  1492.28198656,  6603.55072381,  2929.64282586,\n",
       "         938.35715385,  5335.28780321,  3295.93691267,  1212.26415789,\n",
       "        7173.65769081,  4461.21963646,  6841.187504  ,  3609.05873209,\n",
       "        4107.26721991,  5027.91546911,  3860.65055641,  6828.38084877,\n",
       "        6114.31662036,  3832.71329887,  1480.48398073,  5890.41340454,\n",
       "        4103.00499084,  4799.36472638,  6194.90831641,   710.55706204,\n",
       "        1553.90066044,  5067.84681288,  1339.68323094,  5357.90046816,\n",
       "        2817.76591603,  5257.87066479,  5051.69243763,  1282.40828953,\n",
       "        3246.41395539,  3817.33185011,  4075.23249831,  5581.11155374,\n",
       "        4918.0565597 ,  3141.24863065,  4761.23643406,  4942.38270243,\n",
       "        5492.43069947,  6114.74910963,  3774.98929238,  6173.98938952,\n",
       "        1291.46608007,  7350.45442196,  4011.7777884 ,  1247.35782042,\n",
       "        5751.30195648,  6523.10466494,  3535.63378723,  5007.90673022,\n",
       "        1459.45397238,  6281.44892169,  4340.24646704,  5180.19165578,\n",
       "        2859.77044893,  2575.80036862,  2001.41607957,  7497.87693829,\n",
       "        3151.32866481,  4616.32815171,  1714.97100575,  3881.29872571,\n",
       "        7087.98187336,  2752.4329846 ,  3287.13911891,  4253.31442935,\n",
       "        2384.10589072,  4449.12619072,  5543.76992588,  5557.61261189,\n",
       "        7160.2764672 ,  4721.84876308,  5969.9014017 ,  6977.37088843,\n",
       "        5735.38885138,  5209.52933177,  6365.23705948,  5489.7151071 ,\n",
       "        7196.95336735,  1412.40247586,  6441.86936626,  6472.23149688,\n",
       "        4609.89413069,  1081.82181653,  3292.67077901,  6430.56583816,\n",
       "        5835.34066003,  4266.46139125,  4706.40721111,  2572.31636691,\n",
       "        4452.15695958,  5387.17259998,  3374.25699809,  3812.41149405,\n",
       "        6950.25630797,  4460.91130181,  6440.94565676,  2561.14219828,\n",
       "        3928.47441279,  3081.95003821,  6216.91953017,  3744.2975546 ,\n",
       "        4626.98270442,  4981.23665251,  3550.14147561,  6235.16113567,\n",
       "        1250.69667465,  5136.08475533,  1915.62995216,  3183.83829151,\n",
       "        4801.49702745,  3916.94759333,  2676.2931262 ])"
      ]
     },
     "execution_count": 30,
     "metadata": {},
     "output_type": "execute_result"
    }
   ],
   "source": [
    "#Cross validation prediction\n",
    "predict=cross_val_predict(lr_model,X_train,y_train,cv=3)\n",
    "predict"
   ]
  },
  {
   "cell_type": "markdown",
   "metadata": {},
   "source": [
    "**Cross validation prediction plot**"
   ]
  },
  {
   "cell_type": "code",
   "execution_count": 31,
   "metadata": {},
   "outputs": [
    {
     "data": {
      "image/png": "[encoded data removed]",
      "text/plain": [
       "<Figure size 1080x576 with 1 Axes>"
      ]
     },
     "metadata": {},
     "output_type": "display_data"
    }
   ],
   "source": [
    "#Cross validation plot\n",
    "fig,ax=plt.subplots(figsize=(15,8))\n",
    "ax.scatter(y_train,y_train-predict)\n",
    "ax.axhline(lw=2,color='black')\n",
    "ax.set_title('Cross validation prediction plot')\n",
    "ax.set_xlabel('Observed')\n",
    "ax.set_ylabel('Residual')\n",
    "plt.show()"
   ]
  },
  {
   "cell_type": "markdown",
   "metadata": {},
   "source": [
    "Cross validation prediction plot tells about finite variance between actual target value and predicted target value. In this plot, some data points are have same finite variance between them and for some are not have it."
   ]
  },
  {
   "cell_type": "markdown",
   "metadata": {},
   "source": [
    "**Model evalution metrics**"
   ]
  },
  {
   "cell_type": "markdown",
   "metadata": {},
   "source": [
    "**R-squared and mean squared error score**"
   ]
  },
  {
   "cell_type": "code",
   "execution_count": 32,
   "metadata": {},
   "outputs": [
    {
     "name": "stdout",
     "output_type": "stream",
     "text": [
      "R-squared scores : 0.7995611885231044\n"
     ]
    }
   ],
   "source": [
    "#R-squared scores\n",
    "r2_scores = cross_val_score(lr_model, X_train, y_train, cv=3)\n",
    "print('R-squared scores :',np.average(r2_scores))"
   ]
  },
  {
   "cell_type": "markdown",
   "metadata": {},
   "source": [
    "The R-squared or coefficient of determination is 0.80 on average for 3-fold cross validation , it means that predictor is only able to predict 80% of the variance in the target variable which is contributed by independent variables."
   ]
  },
  {
   "cell_type": "markdown",
   "metadata": {},
   "source": [
    "**Decoding the test attributes**"
   ]
  },
  {
   "cell_type": "code",
   "execution_count": 33,
   "metadata": {},
   "outputs": [
    {
     "name": "stdout",
     "output_type": "stream",
     "text": [
      "Shape of transformed dataframe : (220, 18)\n"
     ]
    },
    {
     "data": {
      "text/html": [
       "<div>\n",
       "<style scoped>\n",
       "    .dataframe tbody tr th:only-of-type {\n",
       "        vertical-align: middle;\n",
       "    }\n",
       "\n",
       "    .dataframe tbody tr th {\n",
       "        vertical-align: top;\n",
       "    }\n",
       "\n",
       "    .dataframe thead th {\n",
       "        text-align: right;\n",
       "    }\n",
       "</style>\n",
       "<table border=\"1\" class=\"dataframe\">\n",
       "  <thead>\n",
       "    <tr style=\"text-align: right;\">\n",
       "      <th></th>\n",
       "      <th>month</th>\n",
       "      <th>weekday</th>\n",
       "      <th>humidity</th>\n",
       "      <th>temp</th>\n",
       "      <th>windspeed</th>\n",
       "      <th>season_1</th>\n",
       "      <th>season_2</th>\n",
       "      <th>season_3</th>\n",
       "      <th>season_4</th>\n",
       "      <th>holiday_0</th>\n",
       "      <th>holiday_1</th>\n",
       "      <th>workingday_0</th>\n",
       "      <th>workingday_1</th>\n",
       "      <th>weather_condition_1</th>\n",
       "      <th>weather_condition_2</th>\n",
       "      <th>weather_condition_3</th>\n",
       "      <th>year_0</th>\n",
       "      <th>year_1</th>\n",
       "    </tr>\n",
       "  </thead>\n",
       "  <tbody>\n",
       "    <tr>\n",
       "      <th>0</th>\n",
       "      <td>12</td>\n",
       "      <td>2</td>\n",
       "      <td>0.733750</td>\n",
       "      <td>0.475833</td>\n",
       "      <td>0.174129</td>\n",
       "      <td>0</td>\n",
       "      <td>0</td>\n",
       "      <td>0</td>\n",
       "      <td>1</td>\n",
       "      <td>1</td>\n",
       "      <td>0</td>\n",
       "      <td>0</td>\n",
       "      <td>1</td>\n",
       "      <td>1</td>\n",
       "      <td>0</td>\n",
       "      <td>0</td>\n",
       "      <td>0</td>\n",
       "      <td>1</td>\n",
       "    </tr>\n",
       "    <tr>\n",
       "      <th>1</th>\n",
       "      <td>2</td>\n",
       "      <td>4</td>\n",
       "      <td>0.437826</td>\n",
       "      <td>0.186957</td>\n",
       "      <td>0.277752</td>\n",
       "      <td>1</td>\n",
       "      <td>0</td>\n",
       "      <td>0</td>\n",
       "      <td>0</td>\n",
       "      <td>1</td>\n",
       "      <td>0</td>\n",
       "      <td>0</td>\n",
       "      <td>1</td>\n",
       "      <td>1</td>\n",
       "      <td>0</td>\n",
       "      <td>0</td>\n",
       "      <td>1</td>\n",
       "      <td>0</td>\n",
       "    </tr>\n",
       "    <tr>\n",
       "      <th>2</th>\n",
       "      <td>10</td>\n",
       "      <td>5</td>\n",
       "      <td>0.585833</td>\n",
       "      <td>0.330833</td>\n",
       "      <td>0.229479</td>\n",
       "      <td>0</td>\n",
       "      <td>0</td>\n",
       "      <td>0</td>\n",
       "      <td>1</td>\n",
       "      <td>1</td>\n",
       "      <td>0</td>\n",
       "      <td>0</td>\n",
       "      <td>1</td>\n",
       "      <td>0</td>\n",
       "      <td>1</td>\n",
       "      <td>0</td>\n",
       "      <td>1</td>\n",
       "      <td>0</td>\n",
       "    </tr>\n",
       "    <tr>\n",
       "      <th>3</th>\n",
       "      <td>4</td>\n",
       "      <td>0</td>\n",
       "      <td>0.676250</td>\n",
       "      <td>0.425833</td>\n",
       "      <td>0.172267</td>\n",
       "      <td>0</td>\n",
       "      <td>1</td>\n",
       "      <td>0</td>\n",
       "      <td>0</td>\n",
       "      <td>1</td>\n",
       "      <td>0</td>\n",
       "      <td>1</td>\n",
       "      <td>0</td>\n",
       "      <td>0</td>\n",
       "      <td>1</td>\n",
       "      <td>0</td>\n",
       "      <td>0</td>\n",
       "      <td>1</td>\n",
       "    </tr>\n",
       "    <tr>\n",
       "      <th>4</th>\n",
       "      <td>9</td>\n",
       "      <td>2</td>\n",
       "      <td>0.570000</td>\n",
       "      <td>0.550000</td>\n",
       "      <td>0.236321</td>\n",
       "      <td>0</td>\n",
       "      <td>0</td>\n",
       "      <td>0</td>\n",
       "      <td>1</td>\n",
       "      <td>1</td>\n",
       "      <td>0</td>\n",
       "      <td>0</td>\n",
       "      <td>1</td>\n",
       "      <td>1</td>\n",
       "      <td>0</td>\n",
       "      <td>0</td>\n",
       "      <td>0</td>\n",
       "      <td>1</td>\n",
       "    </tr>\n",
       "  </tbody>\n",
       "</table>\n",
       "</div>"
      ],
      "text/plain": [
       "  month weekday  humidity   ...    weather_condition_3  year_0  year_1\n",
       "0    12       2  0.733750   ...                      0       0       1\n",
       "1     2       4  0.437826   ...                      0       1       0\n",
       "2    10       5  0.585833   ...                      0       1       0\n",
       "3     4       0  0.676250   ...                      0       0       1\n",
       "4     9       2  0.570000   ...                      0       0       1\n",
       "\n",
       "[5 rows x 18 columns]"
      ]
     },
     "execution_count": 33,
     "metadata": {},
     "output_type": "execute_result"
    }
   ],
   "source": [
    "#To get dummy variables to encode the categorical features to numeric\n",
    "test_encoded_attributes=pd.get_dummies(test_attributes,columns=cat_attributes)\n",
    "print('Shape of transformed dataframe :',test_encoded_attributes.shape)\n",
    "test_encoded_attributes.head(5)"
   ]
  },
  {
   "cell_type": "markdown",
   "metadata": {},
   "source": [
    "**Model performance on test dataset**"
   ]
  },
  {
   "cell_type": "code",
   "execution_count": 34,
   "metadata": {},
   "outputs": [],
   "source": [
    "#Test dataset for prediction\n",
    "X_test=test_encoded_attributes\n",
    "y_test=y_test.total_count.values"
   ]
  },
  {
   "cell_type": "markdown",
   "metadata": {},
   "source": [
    "**Predict the model**"
   ]
  },
  {
   "cell_type": "code",
   "execution_count": 35,
   "metadata": {},
   "outputs": [
    {
     "data": {
      "text/plain": [
       "array([6197.12329782, 1378.27938018, 3212.82326914, 4825.6058012 ,\n",
       "       6672.2308762 , 6942.2039349 ,  693.99373527, 1929.80808599,\n",
       "       6981.48110092, 6844.67173725, 2798.54559266, 2121.8457389 ,\n",
       "       4465.68268321, 5486.74428544, 2189.59008463, 1827.67433934,\n",
       "       2173.48158771, 7469.58027211, 5500.15015098, 2608.49336522,\n",
       "       6933.20124884, 7837.10306473, 5532.48547104, 1261.13929139,\n",
       "       1245.46616862, 4479.83361908, 2496.61989036, 6733.37234742,\n",
       "       3854.86011528, 5802.97615092, 3103.90712661, 4252.34563973,\n",
       "       6358.26561572, 6798.3144729 , 5790.26253638, 5402.54802544,\n",
       "       6692.75313381, 5848.44121572, 3180.98457936,  805.80292438,\n",
       "       4497.72178336, 3746.59014984, 6903.03554988, 4077.94155535,\n",
       "       6907.0442079 , 1687.7942605 , 4801.49297945, 4723.9530173 ,\n",
       "       6369.39948476, 4579.39869385, 3105.76669461, 2833.81705416,\n",
       "       1829.36260472, 5601.65932265, 4625.78263028, 4089.39223053,\n",
       "       4695.03945324, 3038.41700558, 4351.67190815, 6630.97204226,\n",
       "       5007.66555062, 6211.52165985, 2572.61073169, 6727.88758541,\n",
       "       5796.09437315, 7762.90773745, 6848.64696727, 5190.62123588,\n",
       "       1568.96743527, 6028.87281828, 2665.41755406, 2144.02394304,\n",
       "       3356.69145322, 4353.40079713, 4384.19233197, 3220.04666391,\n",
       "       5367.56812181, 4254.58721895,  975.21150647, 5659.73940054,\n",
       "       2542.36328673, 3038.74147307, 5876.48516455, 3594.33351992,\n",
       "       3872.04817926, 4063.25746702, 4705.32613713, 3433.35702376,\n",
       "       3723.75265946, 3202.25007896,  716.74878819, 6822.6772443 ,\n",
       "       5922.1336808 , 4853.60489474, 3168.84865154, 3283.09921476,\n",
       "       4494.43136912, 2646.85988889, 3579.62018078, 5048.13107672,\n",
       "       7167.72890075, 4459.94922665, 6554.79055037, 3146.38282385,\n",
       "       2763.23899264, 5596.58795283, 1100.06582302, 2681.89739079,\n",
       "       7024.44831216,  931.7924249 , 5242.22711677, 6296.07286006,\n",
       "       3412.38654604, 6368.09697036, 5836.4705248 , 3083.61870855,\n",
       "       1415.60188624, 4087.11303535, 4759.40697845, 3218.82983335,\n",
       "       6242.60331962, 2330.86347702, 3311.10655563, 1322.04061013,\n",
       "       4392.81496374, 5950.26843043, 5247.11394751, 2971.91933085,\n",
       "       1974.54234005, 5824.55761634, 3254.47934616, 4154.21343601,\n",
       "       5429.03531681, 5045.72495513, 4664.37722439, 2456.12493284,\n",
       "       5508.53820275, 6242.89615977, 1492.63312718, 5161.38312791,\n",
       "       4222.70597201, 2077.20117062, 2067.28606131, 5254.4625239 ,\n",
       "       4204.22708213, 4948.47344028, 4358.71910619, 4658.33987624,\n",
       "       2352.32871068, 3730.05612973, 3315.06112536, 6839.13109875,\n",
       "       3398.97627374, 4219.50319085, 1229.91618116, 3392.59441851,\n",
       "       4254.28859819, 6577.22705595, 2567.52616578, 5181.47959436,\n",
       "       5838.0593057 , 3570.65586288, 4169.45563323, 5665.67823593,\n",
       "       1820.98838904, 3611.36777664, 5464.69741703, 1992.28047736,\n",
       "       3393.68748484, 5344.44234153, 6652.89864016, 6950.24737149,\n",
       "       1143.52812882, 3717.27949073, 3750.85288536, 5786.96295345,\n",
       "       4155.22788293, 7407.3069429 , 3850.0428338 , 2249.48384716,\n",
       "        411.8468512 , 6634.73634233, 6647.14716246, 5100.71121053,\n",
       "       6428.14183487, 6800.78631545, 7515.09981544, 2821.43860645,\n",
       "       5461.00521722, 1246.05158275, 6988.15644073, 3684.60033916,\n",
       "       3872.6546868 , 5547.97638368, 3069.41059755, 1667.79984417,\n",
       "       5235.21224286, 3484.21070087, 1355.76205855, 4965.45687472,\n",
       "       5227.10750542, 6367.15036549, 5640.6052632 , 5413.3927817 ,\n",
       "       5050.71637614, 1387.07717617, 6621.11312743, 1712.8884983 ,\n",
       "       6345.47467134, 7420.59721026, 6366.99479484, 5777.8219836 ,\n",
       "       5347.08425113, 3646.57515904, 4699.84250695, 3725.68084445,\n",
       "       7210.65078652, 6311.2008993 , 3792.75548891, 3567.67139852])"
      ]
     },
     "execution_count": 35,
     "metadata": {},
     "output_type": "execute_result"
    }
   ],
   "source": [
    "#predict the model\n",
    "lr_pred=lr_model.predict(X_test)\n",
    "lr_pred"
   ]
  },
  {
   "cell_type": "markdown",
   "metadata": {},
   "source": [
    "**Model evaluation metrics**"
   ]
  },
  {
   "cell_type": "markdown",
   "metadata": {},
   "source": [
    "**Root mean square error and mean absolute error scores**"
   ]
  },
  {
   "cell_type": "code",
   "execution_count": 36,
   "metadata": {},
   "outputs": [
    {
     "name": "stdout",
     "output_type": "stream",
     "text": [
      "Root mean square error : 783.0616972625061\n",
      "Mean absolute error : 594.7368430236426\n"
     ]
    }
   ],
   "source": [
    "import math\n",
    "#Root mean square error \n",
    "rmse=math.sqrt(metrics.mean_squared_error(y_test,lr_pred))\n",
    "#Mean absolute error\n",
    "mae=metrics.mean_absolute_error(y_test,lr_pred)\n",
    "print('Root mean square error :',rmse)\n",
    "print('Mean absolute error :',mae)"
   ]
  },
  {
   "cell_type": "markdown",
   "metadata": {},
   "source": [
    "**Residual plot**"
   ]
  },
  {
   "cell_type": "code",
   "execution_count": 37,
   "metadata": {},
   "outputs": [
    {
     "data": {
      "image/png": "[encoded data removed]",
      "text/plain": [
       "<Figure size 1080x576 with 1 Axes>"
      ]
     },
     "metadata": {},
     "output_type": "display_data"
    }
   ],
   "source": [
    "#Residual plot\n",
    "fig, ax = plt.subplots(figsize=(15,8))\n",
    "ax.scatter(y_test, y_test-lr_pred)\n",
    "ax.axhline(lw=2,color='black')\n",
    "ax.set_xlabel('Observed')\n",
    "ax.set_ylabel('Residuals')\n",
    "ax.title.set_text(\"Residual Plot\")\n",
    "plt.show()"
   ]
  },
  {
   "cell_type": "markdown",
   "metadata": {},
   "source": [
    "Residual plot tells about finite variance between actual target value and predicted target value.In this plot,very less data points are have same finite variance between them and for most are not have it."
   ]
  },
  {
   "cell_type": "markdown",
   "metadata": {},
   "source": [
    "**Decision tree regressor**"
   ]
  },
  {
   "cell_type": "code",
   "execution_count": 38,
   "metadata": {},
   "outputs": [],
   "source": [
    "#training the model\n",
    "from sklearn.tree import DecisionTreeRegressor\n",
    "dtr=DecisionTreeRegressor(min_samples_split=2,max_leaf_nodes=10)"
   ]
  },
  {
   "cell_type": "markdown",
   "metadata": {},
   "source": [
    "**Fit the model**"
   ]
  },
  {
   "cell_type": "code",
   "execution_count": 39,
   "metadata": {},
   "outputs": [
    {
     "data": {
      "text/plain": [
       "DecisionTreeRegressor(criterion='mse', max_depth=None, max_features=None,\n",
       "           max_leaf_nodes=10, min_impurity_decrease=0.0,\n",
       "           min_impurity_split=None, min_samples_leaf=1,\n",
       "           min_samples_split=2, min_weight_fraction_leaf=0.0,\n",
       "           presort=False, random_state=None, splitter='best')"
      ]
     },
     "execution_count": 39,
     "metadata": {},
     "output_type": "execute_result"
    }
   ],
   "source": [
    "#Fit the trained model\n",
    "dtr.fit(X_train,y_train)"
   ]
  },
  {
   "cell_type": "markdown",
   "metadata": {},
   "source": [
    "**Decision tree regression accuracy score**"
   ]
  },
  {
   "cell_type": "code",
   "execution_count": 40,
   "metadata": {},
   "outputs": [
    {
     "name": "stdout",
     "output_type": "stream",
     "text": [
      "Accuracy of model : 0.8082151777539757\n"
     ]
    }
   ],
   "source": [
    "#Accuracy score of the model\n",
    "dtr_score=dtr.score(X_train,y_train)\n",
    "print('Accuracy of model :',dtr_score)"
   ]
  },
  {
   "cell_type": "markdown",
   "metadata": {},
   "source": [
    "**Plot the learned model**"
   ]
  },
  {
   "cell_type": "code",
   "execution_count": 41,
   "metadata": {},
   "outputs": [
    {
     "data": {
      "image/svg+xml": [
       "<?xml version=\"1.0\" encoding=\"UTF-8\" standalone=\"no\"?>\n",
       "<!DOCTYPE svg PUBLIC \"-//W3C//DTD SVG 1.1//EN\"\n",
       " \"http://www.w3.org/Graphics/SVG/1.1/DTD/svg11.dtd\">\n",
       "<!-- Generated by graphviz version 2.38.0 (20140413.2041)\n",
       " -->\n",
       "<!-- Title: Tree Pages: 1 -->\n",
       "<svg width=\"1042pt\" height=\"581pt\"\n",
       " viewBox=\"0.00 0.00 1041.50 581.00\" xmlns=\"http://www.w3.org/2000/svg\" xmlns:xlink=\"http://www.w3.org/1999/xlink\">\n",
       "<g id=\"graph0\" class=\"graph\" transform=\"scale(1 1) rotate(0) translate(4 577)\">\n",
       "<title>Tree</title>\n",
       "<polygon fill=\"white\" stroke=\"none\" points=\"-4,4 -4,-577 1037.5,-577 1037.5,4 -4,4\"/>\n",
       "<!-- 0 -->\n",
       "<g id=\"node1\" class=\"node\"><title>0</title>\n",
       "<polygon fill=\"none\" stroke=\"black\" points=\"572,-573 453,-573 453,-505 572,-505 572,-573\"/>\n",
       "<text text-anchor=\"middle\" x=\"512.5\" y=\"-557.8\" font-family=\"Times,serif\" font-size=\"14.00\">X[3] &lt;= 0.432</text>\n",
       "<text text-anchor=\"middle\" x=\"512.5\" y=\"-542.8\" font-family=\"Times,serif\" font-size=\"14.00\">mse = 3638903.63</text>\n",
       "<text text-anchor=\"middle\" x=\"512.5\" y=\"-527.8\" font-family=\"Times,serif\" font-size=\"14.00\">samples = 511</text>\n",
       "<text text-anchor=\"middle\" x=\"512.5\" y=\"-512.8\" font-family=\"Times,serif\" font-size=\"14.00\">value = 4556.867</text>\n",
       "</g>\n",
       "<!-- 1 -->\n",
       "<g id=\"node2\" class=\"node\"><title>1</title>\n",
       "<polygon fill=\"none\" stroke=\"black\" points=\"469.5,-469 343.5,-469 343.5,-401 469.5,-401 469.5,-469\"/>\n",
       "<text text-anchor=\"middle\" x=\"406.5\" y=\"-453.8\" font-family=\"Times,serif\" font-size=\"14.00\">X[3] &lt;= 0.279</text>\n",
       "<text text-anchor=\"middle\" x=\"406.5\" y=\"-438.8\" font-family=\"Times,serif\" font-size=\"14.00\">mse = 2322161.674</text>\n",
       "<text text-anchor=\"middle\" x=\"406.5\" y=\"-423.8\" font-family=\"Times,serif\" font-size=\"14.00\">samples = 202</text>\n",
       "<text text-anchor=\"middle\" x=\"406.5\" y=\"-408.8\" font-family=\"Times,serif\" font-size=\"14.00\">value = 3060.233</text>\n",
       "</g>\n",
       "<!-- 0&#45;&gt;1 -->\n",
       "<g id=\"edge1\" class=\"edge\"><title>0&#45;&gt;1</title>\n",
       "<path fill=\"none\" stroke=\"black\" d=\"M478.085,-504.884C468.643,-495.798 458.3,-485.845 448.485,-476.4\"/>\n",
       "<polygon fill=\"black\" stroke=\"black\" points=\"450.738,-473.711 441.105,-469.299 445.884,-478.755 450.738,-473.711\"/>\n",
       "<text text-anchor=\"middle\" x=\"441.586\" y=\"-490.595\" font-family=\"Times,serif\" font-size=\"14.00\">True</text>\n",
       "</g>\n",
       "<!-- 2 -->\n",
       "<g id=\"node13\" class=\"node\"><title>2</title>\n",
       "<polygon fill=\"none\" stroke=\"black\" points=\"682.5,-469 556.5,-469 556.5,-401 682.5,-401 682.5,-469\"/>\n",
       "<text text-anchor=\"middle\" x=\"619.5\" y=\"-453.8\" font-family=\"Times,serif\" font-size=\"14.00\">X[17] &lt;= 0.5</text>\n",
       "<text text-anchor=\"middle\" x=\"619.5\" y=\"-438.8\" font-family=\"Times,serif\" font-size=\"14.00\">mse = 2078174.135</text>\n",
       "<text text-anchor=\"middle\" x=\"619.5\" y=\"-423.8\" font-family=\"Times,serif\" font-size=\"14.00\">samples = 309</text>\n",
       "<text text-anchor=\"middle\" x=\"619.5\" y=\"-408.8\" font-family=\"Times,serif\" font-size=\"14.00\">value = 5535.249</text>\n",
       "</g>\n",
       "<!-- 0&#45;&gt;2 -->\n",
       "<g id=\"edge12\" class=\"edge\"><title>0&#45;&gt;2</title>\n",
       "<path fill=\"none\" stroke=\"black\" d=\"M547.24,-504.884C556.771,-495.798 567.211,-485.845 577.119,-476.4\"/>\n",
       "<polygon fill=\"black\" stroke=\"black\" points=\"579.745,-478.733 584.568,-469.299 574.915,-473.666 579.745,-478.733\"/>\n",
       "<text text-anchor=\"middle\" x=\"583.97\" y=\"-490.592\" font-family=\"Times,serif\" font-size=\"14.00\">False</text>\n",
       "</g>\n",
       "<!-- 5 -->\n",
       "<g id=\"node3\" class=\"node\"><title>5</title>\n",
       "<polygon fill=\"none\" stroke=\"black\" points=\"325,-357.5 206,-357.5 206,-304.5 325,-304.5 325,-357.5\"/>\n",
       "<text text-anchor=\"middle\" x=\"265.5\" y=\"-342.3\" font-family=\"Times,serif\" font-size=\"14.00\">mse = 861076.316</text>\n",
       "<text text-anchor=\"middle\" x=\"265.5\" y=\"-327.3\" font-family=\"Times,serif\" font-size=\"14.00\">samples = 66</text>\n",
       "<text text-anchor=\"middle\" x=\"265.5\" y=\"-312.3\" font-family=\"Times,serif\" font-size=\"14.00\">value = 1848.955</text>\n",
       "</g>\n",
       "<!-- 1&#45;&gt;5 -->\n",
       "<g id=\"edge2\" class=\"edge\"><title>1&#45;&gt;5</title>\n",
       "<path fill=\"none\" stroke=\"black\" d=\"M360.721,-400.884C344.15,-388.896 325.492,-375.399 309.112,-363.549\"/>\n",
       "<polygon fill=\"black\" stroke=\"black\" points=\"310.931,-360.545 300.778,-357.52 306.828,-366.217 310.931,-360.545\"/>\n",
       "</g>\n",
       "<!-- 6 -->\n",
       "<g id=\"node4\" class=\"node\"><title>6</title>\n",
       "<polygon fill=\"none\" stroke=\"black\" points=\"469.5,-365 343.5,-365 343.5,-297 469.5,-297 469.5,-365\"/>\n",
       "<text text-anchor=\"middle\" x=\"406.5\" y=\"-349.8\" font-family=\"Times,serif\" font-size=\"14.00\">X[16] &lt;= 0.5</text>\n",
       "<text text-anchor=\"middle\" x=\"406.5\" y=\"-334.8\" font-family=\"Times,serif\" font-size=\"14.00\">mse = 1973657.261</text>\n",
       "<text text-anchor=\"middle\" x=\"406.5\" y=\"-319.8\" font-family=\"Times,serif\" font-size=\"14.00\">samples = 136</text>\n",
       "<text text-anchor=\"middle\" x=\"406.5\" y=\"-304.8\" font-family=\"Times,serif\" font-size=\"14.00\">value = 3648.059</text>\n",
       "</g>\n",
       "<!-- 1&#45;&gt;6 -->\n",
       "<g id=\"edge3\" class=\"edge\"><title>1&#45;&gt;6</title>\n",
       "<path fill=\"none\" stroke=\"black\" d=\"M406.5,-400.884C406.5,-392.778 406.5,-383.982 406.5,-375.472\"/>\n",
       "<polygon fill=\"black\" stroke=\"black\" points=\"410,-375.299 406.5,-365.299 403,-375.299 410,-375.299\"/>\n",
       "</g>\n",
       "<!-- 7 -->\n",
       "<g id=\"node5\" class=\"node\"><title>7</title>\n",
       "<polygon fill=\"none\" stroke=\"black\" points=\"325.5,-261 199.5,-261 199.5,-193 325.5,-193 325.5,-261\"/>\n",
       "<text text-anchor=\"middle\" x=\"262.5\" y=\"-245.8\" font-family=\"Times,serif\" font-size=\"14.00\">X[5] &lt;= 0.5</text>\n",
       "<text text-anchor=\"middle\" x=\"262.5\" y=\"-230.8\" font-family=\"Times,serif\" font-size=\"14.00\">mse = 1506149.489</text>\n",
       "<text text-anchor=\"middle\" x=\"262.5\" y=\"-215.8\" font-family=\"Times,serif\" font-size=\"14.00\">samples = 78</text>\n",
       "<text text-anchor=\"middle\" x=\"262.5\" y=\"-200.8\" font-family=\"Times,serif\" font-size=\"14.00\">value = 4339.154</text>\n",
       "</g>\n",
       "<!-- 6&#45;&gt;7 -->\n",
       "<g id=\"edge4\" class=\"edge\"><title>6&#45;&gt;7</title>\n",
       "<path fill=\"none\" stroke=\"black\" d=\"M359.747,-296.884C346.418,-287.442 331.766,-277.064 317.971,-267.292\"/>\n",
       "<polygon fill=\"black\" stroke=\"black\" points=\"319.694,-264.223 309.511,-261.299 315.648,-269.936 319.694,-264.223\"/>\n",
       "</g>\n",
       "<!-- 8 -->\n",
       "<g id=\"node10\" class=\"node\"><title>8</title>\n",
       "<polygon fill=\"none\" stroke=\"black\" points=\"469.5,-261 343.5,-261 343.5,-193 469.5,-193 469.5,-261\"/>\n",
       "<text text-anchor=\"middle\" x=\"406.5\" y=\"-245.8\" font-family=\"Times,serif\" font-size=\"14.00\">X[8] &lt;= 0.5</text>\n",
       "<text text-anchor=\"middle\" x=\"406.5\" y=\"-230.8\" font-family=\"Times,serif\" font-size=\"14.00\">mse = 1096277.226</text>\n",
       "<text text-anchor=\"middle\" x=\"406.5\" y=\"-215.8\" font-family=\"Times,serif\" font-size=\"14.00\">samples = 58</text>\n",
       "<text text-anchor=\"middle\" x=\"406.5\" y=\"-200.8\" font-family=\"Times,serif\" font-size=\"14.00\">value = 2718.655</text>\n",
       "</g>\n",
       "<!-- 6&#45;&gt;8 -->\n",
       "<g id=\"edge9\" class=\"edge\"><title>6&#45;&gt;8</title>\n",
       "<path fill=\"none\" stroke=\"black\" d=\"M406.5,-296.884C406.5,-288.778 406.5,-279.982 406.5,-271.472\"/>\n",
       "<polygon fill=\"black\" stroke=\"black\" points=\"410,-271.299 406.5,-261.299 403,-271.299 410,-271.299\"/>\n",
       "</g>\n",
       "<!-- 13 -->\n",
       "<g id=\"node6\" class=\"node\"><title>13</title>\n",
       "<polygon fill=\"none\" stroke=\"black\" points=\"186.5,-157 60.5,-157 60.5,-89 186.5,-89 186.5,-157\"/>\n",
       "<text text-anchor=\"middle\" x=\"123.5\" y=\"-141.8\" font-family=\"Times,serif\" font-size=\"14.00\">X[2] &lt;= 0.765</text>\n",
       "<text text-anchor=\"middle\" x=\"123.5\" y=\"-126.8\" font-family=\"Times,serif\" font-size=\"14.00\">mse = 1672261.794</text>\n",
       "<text text-anchor=\"middle\" x=\"123.5\" y=\"-111.8\" font-family=\"Times,serif\" font-size=\"14.00\">samples = 42</text>\n",
       "<text text-anchor=\"middle\" x=\"123.5\" y=\"-96.8\" font-family=\"Times,serif\" font-size=\"14.00\">value = 4885.333</text>\n",
       "</g>\n",
       "<!-- 7&#45;&gt;13 -->\n",
       "<g id=\"edge5\" class=\"edge\"><title>7&#45;&gt;13</title>\n",
       "<path fill=\"none\" stroke=\"black\" d=\"M217.371,-192.884C204.504,-183.442 190.361,-173.064 177.044,-163.292\"/>\n",
       "<polygon fill=\"black\" stroke=\"black\" points=\"179.011,-160.394 168.879,-157.299 174.87,-166.037 179.011,-160.394\"/>\n",
       "</g>\n",
       "<!-- 14 -->\n",
       "<g id=\"node9\" class=\"node\"><title>14</title>\n",
       "<polygon fill=\"none\" stroke=\"black\" points=\"324,-149.5 205,-149.5 205,-96.5 324,-96.5 324,-149.5\"/>\n",
       "<text text-anchor=\"middle\" x=\"264.5\" y=\"-134.3\" font-family=\"Times,serif\" font-size=\"14.00\">mse = 558285.275</text>\n",
       "<text text-anchor=\"middle\" x=\"264.5\" y=\"-119.3\" font-family=\"Times,serif\" font-size=\"14.00\">samples = 36</text>\n",
       "<text text-anchor=\"middle\" x=\"264.5\" y=\"-104.3\" font-family=\"Times,serif\" font-size=\"14.00\">value = 3701.944</text>\n",
       "</g>\n",
       "<!-- 7&#45;&gt;14 -->\n",
       "<g id=\"edge8\" class=\"edge\"><title>7&#45;&gt;14</title>\n",
       "<path fill=\"none\" stroke=\"black\" d=\"M263.149,-192.884C263.359,-182.216 263.591,-170.352 263.804,-159.519\"/>\n",
       "<polygon fill=\"black\" stroke=\"black\" points=\"267.303,-159.587 264,-149.52 260.304,-159.449 267.303,-159.587\"/>\n",
       "</g>\n",
       "<!-- 15 -->\n",
       "<g id=\"node7\" class=\"node\"><title>15</title>\n",
       "<polygon fill=\"none\" stroke=\"black\" points=\"113,-53 0,-53 0,-0 113,-0 113,-53\"/>\n",
       "<text text-anchor=\"middle\" x=\"56.5\" y=\"-37.8\" font-family=\"Times,serif\" font-size=\"14.00\">mse = 867075.21</text>\n",
       "<text text-anchor=\"middle\" x=\"56.5\" y=\"-22.8\" font-family=\"Times,serif\" font-size=\"14.00\">samples = 32</text>\n",
       "<text text-anchor=\"middle\" x=\"56.5\" y=\"-7.8\" font-family=\"Times,serif\" font-size=\"14.00\">value = 5277.094</text>\n",
       "</g>\n",
       "<!-- 13&#45;&gt;15 -->\n",
       "<g id=\"edge6\" class=\"edge\"><title>13&#45;&gt;15</title>\n",
       "<path fill=\"none\" stroke=\"black\" d=\"M100.067,-88.9485C93.7753,-80.0749 86.9618,-70.4648 80.6333,-61.5388\"/>\n",
       "<polygon fill=\"black\" stroke=\"black\" points=\"83.3862,-59.3701 74.7472,-53.2367 77.6758,-63.4188 83.3862,-59.3701\"/>\n",
       "</g>\n",
       "<!-- 16 -->\n",
       "<g id=\"node8\" class=\"node\"><title>16</title>\n",
       "<polygon fill=\"none\" stroke=\"black\" points=\"250,-53 131,-53 131,-0 250,-0 250,-53\"/>\n",
       "<text text-anchor=\"middle\" x=\"190.5\" y=\"-37.8\" font-family=\"Times,serif\" font-size=\"14.00\">mse = 2186138.41</text>\n",
       "<text text-anchor=\"middle\" x=\"190.5\" y=\"-22.8\" font-family=\"Times,serif\" font-size=\"14.00\">samples = 10</text>\n",
       "<text text-anchor=\"middle\" x=\"190.5\" y=\"-7.8\" font-family=\"Times,serif\" font-size=\"14.00\">value = 3631.7</text>\n",
       "</g>\n",
       "<!-- 13&#45;&gt;16 -->\n",
       "<g id=\"edge7\" class=\"edge\"><title>13&#45;&gt;16</title>\n",
       "<path fill=\"none\" stroke=\"black\" d=\"M146.933,-88.9485C153.225,-80.0749 160.038,-70.4648 166.367,-61.5388\"/>\n",
       "<polygon fill=\"black\" stroke=\"black\" points=\"169.324,-63.4188 172.253,-53.2367 163.614,-59.3701 169.324,-63.4188\"/>\n",
       "</g>\n",
       "<!-- 9 -->\n",
       "<g id=\"node11\" class=\"node\"><title>9</title>\n",
       "<polygon fill=\"none\" stroke=\"black\" points=\"463,-149.5 344,-149.5 344,-96.5 463,-96.5 463,-149.5\"/>\n",
       "<text text-anchor=\"middle\" x=\"403.5\" y=\"-134.3\" font-family=\"Times,serif\" font-size=\"14.00\">mse = 495119.812</text>\n",
       "<text text-anchor=\"middle\" x=\"403.5\" y=\"-119.3\" font-family=\"Times,serif\" font-size=\"14.00\">samples = 32</text>\n",
       "<text text-anchor=\"middle\" x=\"403.5\" y=\"-104.3\" font-family=\"Times,serif\" font-size=\"14.00\">value = 1992.25</text>\n",
       "</g>\n",
       "<!-- 8&#45;&gt;9 -->\n",
       "<g id=\"edge10\" class=\"edge\"><title>8&#45;&gt;9</title>\n",
       "<path fill=\"none\" stroke=\"black\" d=\"M405.526,-192.884C405.212,-182.216 404.863,-170.352 404.545,-159.519\"/>\n",
       "<polygon fill=\"black\" stroke=\"black\" points=\"408.043,-159.413 404.251,-149.52 401.046,-159.619 408.043,-159.413\"/>\n",
       "</g>\n",
       "<!-- 10 -->\n",
       "<g id=\"node12\" class=\"node\"><title>10</title>\n",
       "<polygon fill=\"none\" stroke=\"black\" points=\"600,-149.5 481,-149.5 481,-96.5 600,-96.5 600,-149.5\"/>\n",
       "<text text-anchor=\"middle\" x=\"540.5\" y=\"-134.3\" font-family=\"Times,serif\" font-size=\"14.00\">mse = 387427.675</text>\n",
       "<text text-anchor=\"middle\" x=\"540.5\" y=\"-119.3\" font-family=\"Times,serif\" font-size=\"14.00\">samples = 26</text>\n",
       "<text text-anchor=\"middle\" x=\"540.5\" y=\"-104.3\" font-family=\"Times,serif\" font-size=\"14.00\">value = 3612.692</text>\n",
       "</g>\n",
       "<!-- 8&#45;&gt;10 -->\n",
       "<g id=\"edge11\" class=\"edge\"><title>8&#45;&gt;10</title>\n",
       "<path fill=\"none\" stroke=\"black\" d=\"M450.006,-192.884C465.61,-181.006 483.161,-167.646 498.624,-155.876\"/>\n",
       "<polygon fill=\"black\" stroke=\"black\" points=\"501.137,-158.362 506.974,-149.52 496.897,-152.792 501.137,-158.362\"/>\n",
       "</g>\n",
       "<!-- 3 -->\n",
       "<g id=\"node14\" class=\"node\"><title>3</title>\n",
       "<polygon fill=\"none\" stroke=\"black\" points=\"679,-365 560,-365 560,-297 679,-297 679,-365\"/>\n",
       "<text text-anchor=\"middle\" x=\"619.5\" y=\"-349.8\" font-family=\"Times,serif\" font-size=\"14.00\">X[2] &lt;= 0.849</text>\n",
       "<text text-anchor=\"middle\" x=\"619.5\" y=\"-334.8\" font-family=\"Times,serif\" font-size=\"14.00\">mse = 603939.673</text>\n",
       "<text text-anchor=\"middle\" x=\"619.5\" y=\"-319.8\" font-family=\"Times,serif\" font-size=\"14.00\">samples = 147</text>\n",
       "<text text-anchor=\"middle\" x=\"619.5\" y=\"-304.8\" font-family=\"Times,serif\" font-size=\"14.00\">value = 4359.361</text>\n",
       "</g>\n",
       "<!-- 2&#45;&gt;3 -->\n",
       "<g id=\"edge13\" class=\"edge\"><title>2&#45;&gt;3</title>\n",
       "<path fill=\"none\" stroke=\"black\" d=\"M619.5,-400.884C619.5,-392.778 619.5,-383.982 619.5,-375.472\"/>\n",
       "<polygon fill=\"black\" stroke=\"black\" points=\"623,-375.299 619.5,-365.299 616,-375.299 623,-375.299\"/>\n",
       "</g>\n",
       "<!-- 4 -->\n",
       "<g id=\"node17\" class=\"node\"><title>4</title>\n",
       "<polygon fill=\"none\" stroke=\"black\" points=\"892.5,-365 766.5,-365 766.5,-297 892.5,-297 892.5,-365\"/>\n",
       "<text text-anchor=\"middle\" x=\"829.5\" y=\"-349.8\" font-family=\"Times,serif\" font-size=\"14.00\">X[2] &lt;= 0.771</text>\n",
       "<text text-anchor=\"middle\" x=\"829.5\" y=\"-334.8\" font-family=\"Times,serif\" font-size=\"14.00\">mse = 1022709.896</text>\n",
       "<text text-anchor=\"middle\" x=\"829.5\" y=\"-319.8\" font-family=\"Times,serif\" font-size=\"14.00\">samples = 162</text>\n",
       "<text text-anchor=\"middle\" x=\"829.5\" y=\"-304.8\" font-family=\"Times,serif\" font-size=\"14.00\">value = 6602.259</text>\n",
       "</g>\n",
       "<!-- 2&#45;&gt;4 -->\n",
       "<g id=\"edge16\" class=\"edge\"><title>2&#45;&gt;4</title>\n",
       "<path fill=\"none\" stroke=\"black\" d=\"M682.507,-403.397C705.968,-392.001 732.778,-378.979 757.021,-367.204\"/>\n",
       "<polygon fill=\"black\" stroke=\"black\" points=\"758.709,-370.275 766.175,-362.758 755.651,-363.979 758.709,-370.275\"/>\n",
       "</g>\n",
       "<!-- 17 -->\n",
       "<g id=\"node15\" class=\"node\"><title>17</title>\n",
       "<polygon fill=\"none\" stroke=\"black\" points=\"607,-253.5 488,-253.5 488,-200.5 607,-200.5 607,-253.5\"/>\n",
       "<text text-anchor=\"middle\" x=\"547.5\" y=\"-238.3\" font-family=\"Times,serif\" font-size=\"14.00\">mse = 431500.768</text>\n",
       "<text text-anchor=\"middle\" x=\"547.5\" y=\"-223.3\" font-family=\"Times,serif\" font-size=\"14.00\">samples = 135</text>\n",
       "<text text-anchor=\"middle\" x=\"547.5\" y=\"-208.3\" font-family=\"Times,serif\" font-size=\"14.00\">value = 4465.044</text>\n",
       "</g>\n",
       "<!-- 3&#45;&gt;17 -->\n",
       "<g id=\"edge14\" class=\"edge\"><title>3&#45;&gt;17</title>\n",
       "<path fill=\"none\" stroke=\"black\" d=\"M596.124,-296.884C588.205,-285.666 579.354,-273.126 571.395,-261.852\"/>\n",
       "<polygon fill=\"black\" stroke=\"black\" points=\"574.14,-259.671 565.514,-253.52 568.422,-263.708 574.14,-259.671\"/>\n",
       "</g>\n",
       "<!-- 18 -->\n",
       "<g id=\"node16\" class=\"node\"><title>18</title>\n",
       "<polygon fill=\"none\" stroke=\"black\" points=\"751.5,-253.5 625.5,-253.5 625.5,-200.5 751.5,-200.5 751.5,-253.5\"/>\n",
       "<text text-anchor=\"middle\" x=\"688.5\" y=\"-238.3\" font-family=\"Times,serif\" font-size=\"14.00\">mse = 1004637.576</text>\n",
       "<text text-anchor=\"middle\" x=\"688.5\" y=\"-223.3\" font-family=\"Times,serif\" font-size=\"14.00\">samples = 12</text>\n",
       "<text text-anchor=\"middle\" x=\"688.5\" y=\"-208.3\" font-family=\"Times,serif\" font-size=\"14.00\">value = 3170.417</text>\n",
       "</g>\n",
       "<!-- 3&#45;&gt;18 -->\n",
       "<g id=\"edge15\" class=\"edge\"><title>3&#45;&gt;18</title>\n",
       "<path fill=\"none\" stroke=\"black\" d=\"M641.902,-296.884C649.491,-285.666 657.973,-273.126 665.6,-261.852\"/>\n",
       "<polygon fill=\"black\" stroke=\"black\" points=\"668.532,-263.764 671.237,-253.52 662.734,-259.842 668.532,-263.764\"/>\n",
       "</g>\n",
       "<!-- 11 -->\n",
       "<g id=\"node18\" class=\"node\"><title>11</title>\n",
       "<polygon fill=\"none\" stroke=\"black\" points=\"889,-253.5 770,-253.5 770,-200.5 889,-200.5 889,-253.5\"/>\n",
       "<text text-anchor=\"middle\" x=\"829.5\" y=\"-238.3\" font-family=\"Times,serif\" font-size=\"14.00\">mse = 787319.105</text>\n",
       "<text text-anchor=\"middle\" x=\"829.5\" y=\"-223.3\" font-family=\"Times,serif\" font-size=\"14.00\">samples = 140</text>\n",
       "<text text-anchor=\"middle\" x=\"829.5\" y=\"-208.3\" font-family=\"Times,serif\" font-size=\"14.00\">value = 6777.95</text>\n",
       "</g>\n",
       "<!-- 4&#45;&gt;11 -->\n",
       "<g id=\"edge17\" class=\"edge\"><title>4&#45;&gt;11</title>\n",
       "<path fill=\"none\" stroke=\"black\" d=\"M829.5,-296.884C829.5,-286.326 829.5,-274.597 829.5,-263.854\"/>\n",
       "<polygon fill=\"black\" stroke=\"black\" points=\"833,-263.52 829.5,-253.52 826,-263.52 833,-263.52\"/>\n",
       "</g>\n",
       "<!-- 12 -->\n",
       "<g id=\"node19\" class=\"node\"><title>12</title>\n",
       "<polygon fill=\"none\" stroke=\"black\" points=\"1033.5,-253.5 907.5,-253.5 907.5,-200.5 1033.5,-200.5 1033.5,-253.5\"/>\n",
       "<text text-anchor=\"middle\" x=\"970.5\" y=\"-238.3\" font-family=\"Times,serif\" font-size=\"14.00\">mse = 1074227.903</text>\n",
       "<text text-anchor=\"middle\" x=\"970.5\" y=\"-223.3\" font-family=\"Times,serif\" font-size=\"14.00\">samples = 22</text>\n",
       "<text text-anchor=\"middle\" x=\"970.5\" y=\"-208.3\" font-family=\"Times,serif\" font-size=\"14.00\">value = 5484.227</text>\n",
       "</g>\n",
       "<!-- 4&#45;&gt;12 -->\n",
       "<g id=\"edge18\" class=\"edge\"><title>4&#45;&gt;12</title>\n",
       "<path fill=\"none\" stroke=\"black\" d=\"M875.279,-296.884C891.85,-284.896 910.508,-271.399 926.888,-259.549\"/>\n",
       "<polygon fill=\"black\" stroke=\"black\" points=\"929.172,-262.217 935.222,-253.52 925.069,-256.545 929.172,-262.217\"/>\n",
       "</g>\n",
       "</g>\n",
       "</svg>\n"
      ],
      "text/plain": [
       "<graphviz.files.Source at 0x7fc501eea4a8>"
      ]
     },
     "execution_count": 41,
     "metadata": {},
     "output_type": "execute_result"
    }
   ],
   "source": [
    "#Plot the learned model\n",
    "from sklearn import tree\n",
    "import pydot\n",
    "import graphviz\n",
    "\n",
    "# export the learned model to tree\n",
    "dot_data = tree.export_graphviz(dtr, out_file=None) \n",
    "graph = graphviz.Source(dot_data) \n",
    "graph"
   ]
  },
  {
   "cell_type": "markdown",
   "metadata": {},
   "source": [
    "Cross validation prediction"
   ]
  },
  {
   "cell_type": "code",
   "execution_count": 42,
   "metadata": {},
   "outputs": [
    {
     "data": {
      "text/plain": [
       "array([4513.38554217, 4592.56521739, 4592.56521739, 4513.38554217,\n",
       "       2558.6       , 5388.47058824, 6824.96969697, 4592.56521739,\n",
       "       4592.56521739, 3603.92857143, 6824.96969697, 3194.22222222,\n",
       "       4513.38554217, 6824.96969697, 4513.38554217, 6824.96969697,\n",
       "       3603.92857143, 1636.81818182, 1636.81818182, 1636.81818182,\n",
       "       6824.96969697, 2558.6       , 4592.56521739, 1027.        ,\n",
       "       6824.96969697, 6824.96969697, 2558.6       , 4592.56521739,\n",
       "       1636.81818182, 4513.38554217, 1636.81818182, 1636.81818182,\n",
       "       1636.81818182, 1636.81818182, 4513.38554217, 5388.47058824,\n",
       "       6824.96969697, 4592.56521739, 4513.38554217, 6824.96969697,\n",
       "       6824.96969697, 4513.38554217, 6824.96969697, 6824.96969697,\n",
       "       4513.38554217, 3194.22222222, 1636.81818182, 4592.56521739,\n",
       "       4513.38554217, 6824.96969697, 3194.22222222, 6824.96969697,\n",
       "       6824.96969697, 3603.92857143, 4513.38554217, 1027.        ,\n",
       "       1636.81818182, 4513.38554217, 1636.81818182, 4513.38554217,\n",
       "       4592.56521739, 4592.56521739, 2558.6       , 5388.47058824,\n",
       "       4513.38554217, 6824.96969697, 4513.38554217, 3194.22222222,\n",
       "       1027.        , 4592.56521739, 4513.38554217, 4513.38554217,\n",
       "       6824.96969697, 3603.92857143, 4513.38554217, 1636.81818182,\n",
       "       2558.6       , 4513.38554217, 1636.81818182, 4592.56521739,\n",
       "       4513.38554217, 4513.38554217, 4513.38554217, 1636.81818182,\n",
       "       6824.96969697, 4513.38554217, 4513.38554217, 6824.96969697,\n",
       "       4513.38554217, 4513.38554217, 1636.81818182, 2558.6       ,\n",
       "       1636.81818182, 6824.96969697, 6824.96969697, 4513.38554217,\n",
       "       4513.38554217, 4513.38554217, 3603.92857143, 1636.81818182,\n",
       "       3603.92857143, 4513.38554217, 6824.96969697, 4513.38554217,\n",
       "       2558.6       , 6824.96969697, 6824.96969697, 6824.96969697,\n",
       "       4513.38554217, 6824.96969697, 3603.92857143, 3603.92857143,\n",
       "       1636.81818182, 4513.38554217, 4513.38554217, 2558.6       ,\n",
       "       5388.47058824, 4513.38554217, 1636.81818182, 2558.6       ,\n",
       "       6824.96969697, 4513.38554217, 6824.96969697, 6824.96969697,\n",
       "       6824.96969697, 6824.96969697, 4513.38554217, 3603.92857143,\n",
       "       6824.96969697, 4592.56521739, 6824.96969697, 4513.38554217,\n",
       "       3194.22222222, 6824.96969697, 6824.96969697, 4513.38554217,\n",
       "       4592.56521739, 4592.56521739, 4592.56521739, 1027.        ,\n",
       "       6824.96969697, 3603.92857143, 3603.92857143, 4592.56521739,\n",
       "       4513.38554217, 4513.38554217, 5388.47058824, 3603.92857143,\n",
       "       1636.81818182, 4513.38554217, 6824.96969697, 3603.92857143,\n",
       "       4592.56521739, 1636.81818182, 3603.92857143, 1636.81818182,\n",
       "       1636.81818182, 6824.96969697, 4513.38554217, 1636.81818182,\n",
       "       6824.96969697, 4513.38554217, 4513.38554217, 6824.96969697,\n",
       "       4513.38554217, 4513.38554217, 4513.38554217, 6824.96969697,\n",
       "       3603.92857143, 4513.38554217, 4513.38554217, 5335.42307692,\n",
       "       4508.48192771, 2088.92      , 6943.30434783, 2088.92      ,\n",
       "       6943.30434783, 4508.48192771, 4508.48192771, 1857.87234043,\n",
       "       5335.42307692, 3623.52380952, 4508.48192771, 1857.87234043,\n",
       "       1857.87234043, 4508.48192771, 5335.42307692, 5335.42307692,\n",
       "       3779.14285714, 2088.92      , 4508.48192771, 1857.87234043,\n",
       "       5335.42307692, 5798.66666667, 5335.42307692, 6943.30434783,\n",
       "       6943.30434783, 5335.42307692, 1857.87234043, 5335.42307692,\n",
       "       1857.87234043, 5998.        , 5798.66666667, 4508.48192771,\n",
       "       1857.87234043, 4508.48192771, 5335.42307692, 5335.42307692,\n",
       "       1857.87234043, 6943.30434783, 5998.        , 3623.52380952,\n",
       "       5335.42307692, 4508.48192771, 2088.92      , 3308.08333333,\n",
       "       5335.42307692, 4508.48192771, 1857.87234043, 6943.30434783,\n",
       "       3308.08333333, 6943.30434783, 2088.92      , 2088.92      ,\n",
       "       4508.48192771, 1857.87234043, 4508.48192771, 4508.48192771,\n",
       "       5335.42307692, 3779.14285714, 3779.14285714, 5998.        ,\n",
       "       4508.48192771, 6943.30434783, 4508.48192771, 6943.30434783,\n",
       "       4508.48192771, 6943.30434783, 6943.30434783, 1857.87234043,\n",
       "       6943.30434783, 5998.        , 1857.87234043, 5798.66666667,\n",
       "       6943.30434783, 2088.92      , 6943.30434783, 4508.48192771,\n",
       "       5998.        , 5998.        , 4508.48192771, 3623.52380952,\n",
       "       4508.48192771, 6943.30434783, 3779.14285714, 1857.87234043,\n",
       "       6943.30434783, 5998.        , 4508.48192771, 5798.66666667,\n",
       "       6943.30434783, 2088.92      , 4508.48192771, 6943.30434783,\n",
       "       6943.30434783, 4508.48192771, 1857.87234043, 3779.14285714,\n",
       "       6943.30434783, 6943.30434783, 2088.92      , 4508.48192771,\n",
       "       1857.87234043, 5335.42307692, 4508.48192771, 1857.87234043,\n",
       "       4508.48192771, 1857.87234043, 5335.42307692, 4508.48192771,\n",
       "       6943.30434783, 6943.30434783, 5998.        , 5335.42307692,\n",
       "       1857.87234043, 6943.30434783, 5998.        , 6943.30434783,\n",
       "       2088.92      , 6943.30434783, 4508.48192771, 4508.48192771,\n",
       "       3623.52380952, 5798.66666667, 6943.30434783, 5998.        ,\n",
       "       3308.08333333, 4508.48192771, 1857.87234043, 4508.48192771,\n",
       "       6943.30434783, 6943.30434783, 5998.        , 4508.48192771,\n",
       "       4508.48192771, 6943.30434783, 5335.42307692, 5798.66666667,\n",
       "       3623.52380952, 6943.30434783, 3623.52380952, 4508.48192771,\n",
       "       2088.92      , 6943.30434783, 4508.48192771, 5335.42307692,\n",
       "       4508.48192771, 4508.48192771, 3623.52380952, 1857.87234043,\n",
       "       4508.48192771, 4508.48192771, 4508.48192771, 6943.30434783,\n",
       "       4508.48192771, 1857.87234043, 5335.42307692, 4508.48192771,\n",
       "       3779.14285714, 6943.30434783, 5998.        , 4508.48192771,\n",
       "       5335.42307692, 6943.30434783, 6943.30434783, 5335.42307692,\n",
       "       1857.87234043, 5335.42307692, 6943.30434783, 3308.08333333,\n",
       "       5998.        , 6858.30952381, 2732.25      , 4509.55555556,\n",
       "       6858.30952381, 1434.22222222, 4509.55555556, 6858.30952381,\n",
       "       4509.55555556, 3573.79411765, 6858.30952381, 1960.84      ,\n",
       "       4509.55555556, 4509.55555556, 3573.79411765, 1434.22222222,\n",
       "       4509.55555556, 4721.39130435, 6858.30952381, 6858.30952381,\n",
       "       3520.11111111, 6858.30952381, 4721.39130435, 4721.39130435,\n",
       "       6180.2       , 6858.30952381, 4487.75      , 6858.30952381,\n",
       "       6858.30952381, 1434.22222222, 4509.55555556, 4509.55555556,\n",
       "       6858.30952381, 1434.22222222, 6858.30952381, 4509.55555556,\n",
       "       6858.30952381, 6858.30952381, 4721.39130435, 1960.84      ,\n",
       "       6858.30952381, 4509.55555556, 6858.30952381, 6858.30952381,\n",
       "       6858.30952381, 6180.2       , 4509.55555556, 3573.79411765,\n",
       "       3573.79411765, 6858.30952381, 4509.55555556, 1434.22222222,\n",
       "       4721.39130435, 4487.75      , 6858.30952381, 1960.84      ,\n",
       "       6858.30952381, 1434.22222222, 6858.30952381, 4509.55555556,\n",
       "       1960.84      , 4509.55555556, 2732.25      , 1434.22222222,\n",
       "       6858.30952381, 4509.55555556, 6858.30952381, 1434.22222222,\n",
       "       4509.55555556, 6858.30952381, 6858.30952381, 6858.30952381,\n",
       "       6858.30952381, 4509.55555556, 1960.84      , 6858.30952381,\n",
       "       4509.55555556, 4721.39130435, 6858.30952381, 1960.84      ,\n",
       "       1434.22222222, 4509.55555556, 1434.22222222, 6858.30952381,\n",
       "       1434.22222222, 4509.55555556, 4509.55555556, 1434.22222222,\n",
       "       3520.11111111, 4509.55555556, 2732.25      , 3573.79411765,\n",
       "       6858.30952381, 1434.22222222, 2732.25      , 4509.55555556,\n",
       "       4509.55555556, 6858.30952381, 3573.79411765, 6858.30952381,\n",
       "       2732.25      , 6858.30952381, 3573.79411765, 1960.84      ,\n",
       "       4721.39130435, 6858.30952381, 4509.55555556, 4509.55555556,\n",
       "       1434.22222222, 6180.2       , 3573.79411765, 3573.79411765,\n",
       "       3573.79411765, 1960.84      , 2732.25      , 6858.30952381,\n",
       "       1434.22222222, 4509.55555556, 1434.22222222, 3520.11111111,\n",
       "       6858.30952381, 1434.22222222, 3520.11111111, 4509.55555556,\n",
       "       3573.79411765, 4721.39130435, 6858.30952381, 4721.39130435,\n",
       "       6858.30952381, 4509.55555556, 4487.75      , 6858.30952381,\n",
       "       4721.39130435, 4509.55555556, 6858.30952381, 6858.30952381,\n",
       "       6180.2       , 1960.84      , 6858.30952381, 6858.30952381,\n",
       "       4509.55555556, 1434.22222222, 3520.11111111, 6858.30952381,\n",
       "       4509.55555556, 4509.55555556, 4509.55555556, 1434.22222222,\n",
       "       3573.79411765, 6858.30952381, 3520.11111111, 3520.11111111,\n",
       "       6858.30952381, 4509.55555556, 6180.2       , 2732.25      ,\n",
       "       3573.79411765, 1960.84      , 6858.30952381, 4509.55555556,\n",
       "       4509.55555556, 3573.79411765, 4509.55555556, 6180.2       ,\n",
       "       1434.22222222, 4721.39130435, 1960.84      , 4509.55555556,\n",
       "       4509.55555556, 3573.79411765, 1960.84      ])"
      ]
     },
     "execution_count": 42,
     "metadata": {},
     "output_type": "execute_result"
    }
   ],
   "source": [
    "predict=cross_val_predict(dtr,X_train,y_train,cv=3)\n",
    "predict"
   ]
  },
  {
   "cell_type": "markdown",
   "metadata": {},
   "source": [
    "**Cross validation prediction plot**"
   ]
  },
  {
   "cell_type": "code",
   "execution_count": 43,
   "metadata": {},
   "outputs": [
    {
     "data": {
      "image/png": "[encoded data removed]",
      "text/plain": [
       "<Figure size 1080x576 with 1 Axes>"
      ]
     },
     "metadata": {},
     "output_type": "display_data"
    }
   ],
   "source": [
    "# Cross validation prediction plot\n",
    "fig,ax=plt.subplots(figsize=(15,8))\n",
    "ax.scatter(y_train,y_train-predict)\n",
    "ax.axhline(lw=2,color='black')\n",
    "ax.set_title('Cross validation prediction plot')\n",
    "ax.set_xlabel('Observed')\n",
    "ax.set_ylabel('Residual')\n",
    "plt.show()"
   ]
  },
  {
   "cell_type": "markdown",
   "metadata": {},
   "source": [
    "Cross validation prediction plot tells about finite variance between actual target value and predicted target value. In this plot,some data points are have same finite variance between them and for some are not have it."
   ]
  },
  {
   "cell_type": "markdown",
   "metadata": {},
   "source": [
    "**Model evalution metrics**"
   ]
  },
  {
   "cell_type": "markdown",
   "metadata": {},
   "source": [
    "**R-squared and mean squared error scores**"
   ]
  },
  {
   "cell_type": "code",
   "execution_count": 44,
   "metadata": {},
   "outputs": [
    {
     "name": "stdout",
     "output_type": "stream",
     "text": [
      "R-squared scores : 0.7460808156442775\n"
     ]
    }
   ],
   "source": [
    "#R-squared scores\n",
    "r2_scores = cross_val_score(dtr, X_train, y_train, cv=3)\n",
    "print('R-squared scores :',np.average(r2_scores))"
   ]
  },
  {
   "cell_type": "markdown",
   "metadata": {},
   "source": [
    "The R-squared or coefficient of determination is 0.74 on average for 3-fold cross validation ,it means that predictor is only able to predict 74% of the variance in the target variable which is contributed by independent variables."
   ]
  },
  {
   "cell_type": "markdown",
   "metadata": {},
   "source": [
    "**Model performance on test dataset**"
   ]
  },
  {
   "cell_type": "code",
   "execution_count": 45,
   "metadata": {},
   "outputs": [
    {
     "data": {
      "text/plain": [
       "array([6777.95      , 1848.95454545, 3612.69230769, 5277.09375   ,\n",
       "       6777.95      , 6777.95      , 1848.95454545, 1992.25      ,\n",
       "       6777.95      , 6777.95      , 1848.95454545, 1992.25      ,\n",
       "       4465.04444444, 5277.09375   , 1992.25      , 1992.25      ,\n",
       "       1992.25      , 6777.95      , 4465.04444444, 1848.95454545,\n",
       "       6777.95      , 6777.95      , 5277.09375   , 1848.95454545,\n",
       "       1992.25      , 4465.04444444, 1992.25      , 6777.95      ,\n",
       "       1848.95454545, 5277.09375   , 1848.95454545, 4465.04444444,\n",
       "       6777.95      , 6777.95      , 6777.95      , 5484.22727273,\n",
       "       6777.95      , 6777.95      , 4465.04444444, 1848.95454545,\n",
       "       4465.04444444, 1848.95454545, 6777.95      , 4465.04444444,\n",
       "       6777.95      , 3612.69230769, 4465.04444444, 6777.95      ,\n",
       "       6777.95      , 5484.22727273, 4465.04444444, 1848.95454545,\n",
       "       1992.25      , 4465.04444444, 4465.04444444, 4465.04444444,\n",
       "       3170.41666667, 4465.04444444, 4465.04444444, 6777.95      ,\n",
       "       6777.95      , 6777.95      , 1992.25      , 6777.95      ,\n",
       "       6777.95      , 6777.95      , 6777.95      , 4465.04444444,\n",
       "       1992.25      , 6777.95      , 4465.04444444, 1992.25      ,\n",
       "       3612.69230769, 4465.04444444, 3701.94444444, 4465.04444444,\n",
       "       5277.09375   , 4465.04444444, 1848.95454545, 4465.04444444,\n",
       "       1848.95454545, 1848.95454545, 5277.09375   , 5484.22727273,\n",
       "       3612.69230769, 3701.94444444, 3170.41666667, 3612.69230769,\n",
       "       3612.69230769, 1848.95454545, 1848.95454545, 6777.95      ,\n",
       "       5277.09375   , 6777.95      , 1848.95454545, 1848.95454545,\n",
       "       4465.04444444, 1848.95454545, 3170.41666667, 4465.04444444,\n",
       "       6777.95      , 4465.04444444, 6777.95      , 1848.95454545,\n",
       "       1992.25      , 5277.09375   , 1992.25      , 1848.95454545,\n",
       "       6777.95      , 1848.95454545, 4465.04444444, 6777.95      ,\n",
       "       3612.69230769, 6777.95      , 5484.22727273, 4465.04444444,\n",
       "       1992.25      , 1848.95454545, 4465.04444444, 1848.95454545,\n",
       "       6777.95      , 3170.41666667, 4465.04444444, 1848.95454545,\n",
       "       4465.04444444, 5277.09375   , 4465.04444444, 3612.69230769,\n",
       "       1992.25      , 6777.95      , 3612.69230769, 3612.69230769,\n",
       "       5277.09375   , 5277.09375   , 4465.04444444, 1992.25      ,\n",
       "       6777.95      , 6777.95      , 1992.25      , 4465.04444444,\n",
       "       4465.04444444, 1992.25      , 1992.25      , 4465.04444444,\n",
       "       3612.69230769, 4465.04444444, 4465.04444444, 5277.09375   ,\n",
       "       3170.41666667, 3612.69230769, 4465.04444444, 6777.95      ,\n",
       "       4465.04444444, 4465.04444444, 1848.95454545, 4465.04444444,\n",
       "       3701.94444444, 6777.95      , 3170.41666667, 4465.04444444,\n",
       "       6777.95      , 3170.41666667, 3612.69230769, 5277.09375   ,\n",
       "       1848.95454545, 4465.04444444, 6777.95      , 1992.25      ,\n",
       "       3612.69230769, 4465.04444444, 6777.95      , 6777.95      ,\n",
       "       1848.95454545, 3701.94444444, 3701.94444444, 6777.95      ,\n",
       "       3701.94444444, 6777.95      , 4465.04444444, 1992.25      ,\n",
       "       1992.25      , 6777.95      , 6777.95      , 5277.09375   ,\n",
       "       6777.95      , 6777.95      , 6777.95      , 1848.95454545,\n",
       "       5277.09375   , 1992.25      , 6777.95      , 3701.94444444,\n",
       "       4465.04444444, 6777.95      , 1848.95454545, 1848.95454545,\n",
       "       4465.04444444, 3701.94444444, 1848.95454545, 4465.04444444,\n",
       "       4465.04444444, 5484.22727273, 5277.09375   , 4465.04444444,\n",
       "       5484.22727273, 3170.41666667, 6777.95      , 1848.95454545,\n",
       "       5484.22727273, 6777.95      , 6777.95      , 4465.04444444,\n",
       "       6777.95      , 1848.95454545, 4465.04444444, 4465.04444444,\n",
       "       6777.95      , 6777.95      , 3170.41666667, 3170.41666667])"
      ]
     },
     "execution_count": 45,
     "metadata": {},
     "output_type": "execute_result"
    }
   ],
   "source": [
    "#predict the model\n",
    "dtr_pred=dtr.predict(X_test)\n",
    "dtr_pred"
   ]
  },
  {
   "cell_type": "markdown",
   "metadata": {},
   "source": [
    "**Root mean squared error and mean absolute error**"
   ]
  },
  {
   "cell_type": "code",
   "execution_count": 46,
   "metadata": {},
   "outputs": [
    {
     "name": "stdout",
     "output_type": "stream",
     "text": [
      "Root mean square error : 925.7976022448886\n",
      "Mean absolute error : 667.8169018859927\n"
     ]
    }
   ],
   "source": [
    "#Root mean square error\n",
    "rmse=math.sqrt(metrics.mean_squared_error(y_test,dtr_pred))\n",
    "#Mean absolute error\n",
    "mae=metrics.mean_absolute_error(y_test,dtr_pred)\n",
    "print('Root mean square error :',rmse)\n",
    "print('Mean absolute error :',mae)"
   ]
  },
  {
   "cell_type": "markdown",
   "metadata": {},
   "source": [
    "**Residual plot**"
   ]
  },
  {
   "cell_type": "code",
   "execution_count": 47,
   "metadata": {},
   "outputs": [
    {
     "data": {
      "image/png": "[encoded data removed]",
      "text/plain": [
       "<Figure size 1080x576 with 1 Axes>"
      ]
     },
     "metadata": {},
     "output_type": "display_data"
    }
   ],
   "source": [
    "#Residual scatter plot\n",
    "residuals = y_test-dtr_pred\n",
    "fig, ax = plt.subplots(figsize=(15,8))\n",
    "ax.scatter(y_test, residuals)\n",
    "ax.axhline(lw=2,color='black')\n",
    "ax.set_xlabel('Observed')\n",
    "ax.set_ylabel('Residual')\n",
    "ax.set_title('Residual plot')\n",
    "plt.show()"
   ]
  },
  {
   "cell_type": "markdown",
   "metadata": {},
   "source": [
    "Residual plot tells about finite variance between actual target value and predicted target value. In this plot, some data points are have same finite variance between them and for some are not have it."
   ]
  },
  {
   "cell_type": "markdown",
   "metadata": {},
   "source": [
    "**Random Forest**"
   ]
  },
  {
   "cell_type": "code",
   "execution_count": 48,
   "metadata": {},
   "outputs": [],
   "source": [
    "#Training the model\n",
    "from sklearn.ensemble import RandomForestRegressor\n",
    "X_train=train_encoded_attributes\n",
    "rf=RandomForestRegressor(n_estimators=200)"
   ]
  },
  {
   "cell_type": "markdown",
   "metadata": {},
   "source": [
    "**Fit the model**"
   ]
  },
  {
   "cell_type": "code",
   "execution_count": 49,
   "metadata": {},
   "outputs": [
    {
     "data": {
      "text/plain": [
       "RandomForestRegressor(bootstrap=True, criterion='mse', max_depth=None,\n",
       "           max_features='auto', max_leaf_nodes=None,\n",
       "           min_impurity_decrease=0.0, min_impurity_split=None,\n",
       "           min_samples_leaf=1, min_samples_split=2,\n",
       "           min_weight_fraction_leaf=0.0, n_estimators=200, n_jobs=None,\n",
       "           oob_score=False, random_state=None, verbose=0, warm_start=False)"
      ]
     },
     "execution_count": 49,
     "metadata": {},
     "output_type": "execute_result"
    }
   ],
   "source": [
    "#Fit the trained model\n",
    "rf.fit(X_train,y_train)"
   ]
  },
  {
   "cell_type": "markdown",
   "metadata": {},
   "source": [
    "**Random forest accuracy score**"
   ]
  },
  {
   "cell_type": "code",
   "execution_count": 50,
   "metadata": {},
   "outputs": [
    {
     "name": "stdout",
     "output_type": "stream",
     "text": [
      "Accuracy of the model : 0.9809851493032764\n"
     ]
    }
   ],
   "source": [
    "#accuracy of the model\n",
    "rf_score =rf.score(X_train,y_train)\n",
    "print('Accuracy of the model :',rf_score)"
   ]
  },
  {
   "cell_type": "markdown",
   "metadata": {},
   "source": [
    "**Cross validation prediction**"
   ]
  },
  {
   "cell_type": "code",
   "execution_count": 51,
   "metadata": {},
   "outputs": [
    {
     "data": {
      "text/plain": [
       "array([4926.445, 4743.68 , 5211.505, 4769.62 , 3088.12 , 5721.86 ,\n",
       "       6585.16 , 3818.09 , 4287.695, 3646.48 , 5929.45 , 3352.905,\n",
       "       4321.3  , 6856.495, 4854.09 , 6679.68 , 4013.245, 2626.08 ,\n",
       "       1162.22 , 1433.92 , 6217.345, 3480.615, 4786.03 , 4504.735,\n",
       "       7176.26 , 6254.705, 3279.355, 4228.07 , 1367.945, 4985.725,\n",
       "       1048.   , 1822.445, 1450.415, 1902.745, 4734.875, 4973.1  ,\n",
       "       6861.74 , 3918.43 , 4339.035, 6054.405, 6583.36 , 4338.06 ,\n",
       "       6984.66 , 6317.155, 4405.645, 3302.015, 1323.71 , 4115.075,\n",
       "       4680.205, 6594.905, 2829.295, 6431.72 , 6491.925, 3398.975,\n",
       "       4926.915, 3089.525, 1398.71 , 4164.71 , 1049.69 , 4625.355,\n",
       "       5315.25 , 4082.35 , 3627.755, 5526.53 , 4442.2  , 6830.675,\n",
       "       4664.125, 3185.22 , 3826.425, 4257.74 , 3729.35 , 4419.95 ,\n",
       "       7180.885, 3794.95 , 4980.88 , 2366.045, 2625.92 , 4588.04 ,\n",
       "       2100.395, 4307.17 , 4299.89 , 4721.62 , 4166.55 , 2099.73 ,\n",
       "       7606.69 , 4352.62 , 4712.115, 7374.325, 4617.01 , 4235.24 ,\n",
       "       1597.095, 2307.835, 1961.695, 7311.22 , 6844.795, 4843.83 ,\n",
       "       4332.905, 4702.72 , 3471.29 , 2062.985, 3130.87 , 4243.985,\n",
       "       6135.285, 4486.465, 2846.08 , 6485.175, 7064.56 , 7379.135,\n",
       "       4186.45 , 6724.41 , 3438.365, 3326.43 , 1943.665, 4419.07 ,\n",
       "       4913.23 , 2484.53 , 5772.705, 4595.655, 1797.56 , 2000.875,\n",
       "       6002.035, 4379.62 , 5814.685, 6409.34 , 6984.77 , 7764.215,\n",
       "       4850.07 , 3570.585, 6992.91 , 4464.225, 6234.77 , 4507.325,\n",
       "       3549.575, 6853.675, 7672.32 , 4498.495, 4077.1  , 5007.18 ,\n",
       "       3469.005, 3865.54 , 7593.28 , 3099.675, 3563.03 , 4805.75 ,\n",
       "       4354.985, 4492.37 , 5286.14 , 3344.34 , 1587.62 , 4509.72 ,\n",
       "       7429.69 , 3324.41 , 5495.465, 1415.665, 3654.415, 2413.595,\n",
       "        917.525, 7029.605, 4350.19 , 1576.315, 7112.695, 5152.025,\n",
       "       4221.38 , 6397.45 , 4650.945, 5110.19 , 5098.47 , 6841.865,\n",
       "       3084.   , 5161.545, 4378.9  , 5036.35 , 3923.105, 2503.76 ,\n",
       "       7071.215, 1722.235, 6661.86 , 4859.975, 5252.49 , 1129.77 ,\n",
       "       5450.395, 3698.935, 4648.205, 2349.185, 1942.585, 4550.01 ,\n",
       "       5874.44 , 6251.365, 4429.925, 2214.24 , 4932.455, 2459.12 ,\n",
       "       5482.61 , 6210.005, 5110.38 , 7206.41 , 7496.805, 6302.345,\n",
       "       1461.65 , 5738.92 , 1869.765, 6026.12 , 5964.14 , 4048.805,\n",
       "       1146.615, 3689.145, 4522.27 , 4378.885, 1367.89 , 7177.2  ,\n",
       "       6673.565, 3722.635, 5341.38 , 4226.18 , 3118.54 , 3640.645,\n",
       "       6406.935, 4062.79 , 1255.36 , 6924.17 , 3683.48 , 5567.3  ,\n",
       "       1831.75 , 2884.155, 4690.855, 1544.11 , 4683.455, 4585.29 ,\n",
       "       4158.325, 3948.155, 4103.645, 5439.18 , 5117.31 , 7516.25 ,\n",
       "       5187.175, 7300.975, 5008.675, 7448.335, 7362.46 , 3173.83 ,\n",
       "       7448.375, 5908.83 , 3562.125, 6725.28 , 7433.645, 1565.315,\n",
       "       6225.86 , 5085.76 , 5511.945, 5449.31 , 4459.08 , 3631.305,\n",
       "       4643.525, 6482.625, 4223.305, 2943.185, 7374.88 , 5396.105,\n",
       "       4874.835, 6046.935, 7049.41 , 2466.94 , 4324.265, 6503.79 ,\n",
       "       6494.225, 3936.08 , 3067.585, 4033.92 , 6640.855, 6496.07 ,\n",
       "       1679.05 , 3856.895, 2330.775, 6614.295, 4071.86 , 1603.55 ,\n",
       "       3956.88 , 2304.865, 4961.725, 4711.09 , 6440.35 , 7514.27 ,\n",
       "       6709.435, 6376.895, 1098.83 , 7111.74 , 5466.58 , 6960.65 ,\n",
       "       1872.325, 6393.95 , 4734.45 , 4662.8  , 3664.25 , 6043.305,\n",
       "       6887.86 , 5799.83 , 3926.435, 4602.005, 2923.955, 4418.1  ,\n",
       "       6912.375, 7205.55 , 6037.125, 4664.2  , 4804.145, 6963.64 ,\n",
       "       4839.435, 6708.26 , 3659.585, 6739.19 , 3096.015, 4491.68 ,\n",
       "       2274.435, 7600.025, 4091.17 , 4183.645, 4594.565, 5095.6  ,\n",
       "       3954.27 , 2141.115, 3828.47 , 4087.265, 3873.335, 5650.945,\n",
       "       4250.74 , 2492.165, 6158.915, 4701.135, 4118.66 , 6619.24 ,\n",
       "       5487.475, 4468.92 , 4943.675, 6559.515, 6376.775, 4931.255,\n",
       "       1659.78 , 4541.12 , 6540.445, 4726.525, 5620.755, 6890.745,\n",
       "       2948.115, 4350.97 , 7410.03 , 1975.525, 4771.09 , 6763.88 ,\n",
       "       4377.045, 4259.75 , 6747.995, 2257.4  , 4375.66 , 5399.62 ,\n",
       "       3707.705, 2784.37 , 4228.625, 4419.63 , 6761.51 , 6470.075,\n",
       "       3375.36 , 6566.535, 5118.255, 4573.64 , 6275.045, 7792.21 ,\n",
       "       5142.88 , 6793.81 , 6941.205, 1699.26 , 4980.965, 4199.73 ,\n",
       "       7416.17 , 1059.63 , 7033.145, 4611.83 , 6801.82 , 7280.43 ,\n",
       "       5720.68 , 2621.11 , 5916.175, 4711.535, 7139.285, 6300.975,\n",
       "       6159.515, 5742.295, 4346.92 , 3312.585, 3929.585, 6952.86 ,\n",
       "       4182.395, 1578.86 , 5451.86 , 5751.87 , 7032.025, 1977.605,\n",
       "       6613.985, 1874.715, 7050.945, 3117.11 , 1683.785, 4414.985,\n",
       "       3332.39 ,  812.71 , 7274.165, 4465.405, 7076.21 , 2621.585,\n",
       "       4634.02 , 5526.35 , 4366.44 , 7385.025, 6701.82 , 4208.77 ,\n",
       "       1935.915, 6408.295, 4627.095, 5052.08 , 6723.175, 1719.4  ,\n",
       "       1335.87 , 4857.95 , 1533.025, 6094.1  , 2240.94 , 4516.33 ,\n",
       "       4856.   , 1463.88 , 3462.725, 4090.4  , 2982.22 , 4965.375,\n",
       "       5181.43 , 2055.38 , 3319.59 , 3768.51 , 4835.555, 6646.015,\n",
       "       3398.915, 6756.49 , 2365.91 , 6897.95 , 3556.505, 1919.585,\n",
       "       4031.055, 6665.04 , 3169.865, 4665.51 , 1581.07 , 6405.795,\n",
       "       4063.02 , 4564.26 , 3177.9  , 2009.855, 2646.15 , 6363.495,\n",
       "       2315.52 , 4770.44 , 1357.195, 3477.785, 7402.225, 1704.955,\n",
       "       3652.675, 4478.36 , 2968.295, 3657.7  , 6339.84 , 4659.755,\n",
       "       7533.78 , 4863.005, 4821.185, 6720.44 , 5088.445, 4946.685,\n",
       "       7142.05 , 6635.635, 6741.025, 1798.88 , 7083.49 , 6948.03 ,\n",
       "       4700.265, 1147.905, 3435.5  , 6951.065, 4820.49 , 4402.43 ,\n",
       "       4450.785, 1844.6  , 3916.54 , 6221.505, 3350.445, 3543.2  ,\n",
       "       7376.77 , 4768.115, 6428.555, 2781.19 , 3530.475, 1916.57 ,\n",
       "       6457.585, 4115.425, 4450.775, 4770.65 , 4502.385, 6166.305,\n",
       "       1329.805, 3826.745, 2310.74 , 3541.145, 3901.85 , 3624.82 ,\n",
       "       2046.24 ])"
      ]
     },
     "execution_count": 51,
     "metadata": {},
     "output_type": "execute_result"
    }
   ],
   "source": [
    "#Cross validation prediction\n",
    "predict=cross_val_predict(rf,X_train,y_train,cv=3)\n",
    "predict"
   ]
  },
  {
   "cell_type": "markdown",
   "metadata": {},
   "source": [
    "**Cross validation prediction plot**"
   ]
  },
  {
   "cell_type": "code",
   "execution_count": 52,
   "metadata": {},
   "outputs": [
    {
     "data": {
      "image/png": "[encoded data removed]",
      "text/plain": [
       "<Figure size 1080x576 with 1 Axes>"
      ]
     },
     "metadata": {},
     "output_type": "display_data"
    }
   ],
   "source": [
    "#Cross validation prediction plot\n",
    "fig,ax=plt.subplots(figsize=(15,8))\n",
    "ax.scatter(y_train,y_train-predict)\n",
    "ax.axhline(lw=2,color='black')\n",
    "ax.set_title('Cross validation prediction plot')\n",
    "ax.set_xlabel('Observed')\n",
    "ax.set_ylabel('Residual')\n",
    "plt.show()"
   ]
  },
  {
   "cell_type": "markdown",
   "metadata": {},
   "source": [
    "Cross validation prediction plot tells about finite variance between actual target value and predicted target value. In this plot,some data points are have same finite variance between them and for some are not have it."
   ]
  },
  {
   "cell_type": "markdown",
   "metadata": {},
   "source": [
    "**R-squared and mean squared error scores**"
   ]
  },
  {
   "cell_type": "code",
   "execution_count": 53,
   "metadata": {},
   "outputs": [
    {
     "name": "stdout",
     "output_type": "stream",
     "text": [
      "R-squared scores : 0.8450967471151829\n"
     ]
    }
   ],
   "source": [
    "#R-squared scores\n",
    "r2_scores = cross_val_score(rf, X_train, y_train, cv=3)\n",
    "print('R-squared scores :',np.average(r2_scores))\n"
   ]
  },
  {
   "cell_type": "markdown",
   "metadata": {},
   "source": [
    "The R-squared or coefficient of determination is 0.85 on average for 3-fold cross validation , it means that predictor is only able to predict 85% of the variance in the target variable which is contributed by independent variables."
   ]
  },
  {
   "cell_type": "markdown",
   "metadata": {},
   "source": [
    "**Model performance on test dataset**"
   ]
  },
  {
   "cell_type": "code",
   "execution_count": 54,
   "metadata": {},
   "outputs": [
    {
     "data": {
      "text/plain": [
       "array([6634.725, 1561.55 , 3400.63 , 5116.625, 7484.22 , 7225.875,\n",
       "       1498.2  , 2243.79 , 7315.155, 6438.305, 2249.845, 2937.9  ,\n",
       "       5001.75 , 5009.865, 2159.68 , 2146.285, 2281.6  , 7834.785,\n",
       "       5020.205, 2438.76 , 7479.87 , 6023.045, 5858.995, 1769.425,\n",
       "       1733.535, 4739.65 , 1837.29 , 7187.085, 3167.315, 5767.195,\n",
       "       2959.97 , 4071.66 , 6605.84 , 7352.17 , 6161.775, 5226.625,\n",
       "       7221.22 , 6205.81 , 3170.605,  895.985, 3827.305, 3278.9  ,\n",
       "       7256.27 , 4423.99 , 6961.075, 2193.335, 4321.73 , 5630.28 ,\n",
       "       6591.105, 4382.27 , 4178.245, 2881.91 , 2347.97 , 4310.18 ,\n",
       "       4662.38 , 4177.045, 3489.45 , 3752.205, 4264.68 , 6457.285,\n",
       "       6248.425, 6753.435, 1950.48 , 7299.78 , 6593.655, 6426.585,\n",
       "       5928.965, 4296.185, 1895.31 , 7352.69 , 3858.31 , 2110.67 ,\n",
       "       3256.62 , 3969.97 , 4335.63 , 3857.555, 4654.545, 4496.57 ,\n",
       "       1355.025, 4314.225, 2398.26 , 1992.335, 5134.675, 4073.02 ,\n",
       "       3611.765, 3418.83 , 4118.85 , 3747.64 , 3478.945, 3337.48 ,\n",
       "       1356.43 , 7053.465, 5614.465, 5823.99 , 2574.   , 2017.085,\n",
       "       4786.895, 2738.22 , 3277.695, 4857.175, 7542.31 , 4405.6  ,\n",
       "       6727.065, 1895.36 , 2360.89 , 5223.975, 2169.125, 3035.605,\n",
       "       6582.465, 1222.335, 4428.99 , 6849.72 , 3607.175, 7743.94 ,\n",
       "       5886.79 , 4288.075, 1756.52 , 3040.285, 5129.205, 2298.545,\n",
       "       6651.935, 2696.305, 3392.87 , 1459.57 , 4429.075, 5124.245,\n",
       "       4217.7  , 3283.895, 2200.755, 5971.085, 3585.33 , 3844.56 ,\n",
       "       4899.58 , 5129.075, 4924.46 , 1978.   , 6129.   , 6548.66 ,\n",
       "       1942.94 , 4511.425, 4641.92 , 2107.865, 2125.62 , 4276.295,\n",
       "       3641.76 , 4991.45 , 4382.595, 4636.28 , 2665.835, 3645.43 ,\n",
       "       4660.015, 7253.675, 4137.145, 3972.56 , 1533.73 , 3820.755,\n",
       "       4011.865, 6698.685, 2864.835, 4628.77 , 6132.185, 3867.955,\n",
       "       3884.505, 4780.135, 1575.115, 3867.08 , 6413.915, 1872.35 ,\n",
       "       3587.355, 4488.39 , 6961.56 , 7227.225, 1536.33 , 3344.045,\n",
       "       3877.57 , 5878.54 , 3975.195, 6373.435, 3591.855, 1667.855,\n",
       "       1587.04 , 7276.7  , 7054.115, 5365.58 , 6832.475, 7972.635,\n",
       "       7641.585, 2591.285, 4647.615, 1414.26 , 7394.25 , 3611.475,\n",
       "       4102.63 , 6282.75 , 1974.535, 1675.225, 3883.165, 3889.325,\n",
       "       1006.16 , 5109.73 , 4596.15 , 5774.105, 5195.75 , 5128.41 ,\n",
       "       5047.865, 2935.14 , 7304.77 , 1837.99 , 6371.935, 6467.275,\n",
       "       6848.105, 3782.58 , 5541.06 , 2966.965, 4948.22 , 3993.425,\n",
       "       7285.165, 6804.625, 3486.755, 3865.505])"
      ]
     },
     "execution_count": 54,
     "metadata": {},
     "output_type": "execute_result"
    }
   ],
   "source": [
    "#predict the model\n",
    "X_test=test_encoded_attributes\n",
    "rf_pred=rf.predict(X_test)\n",
    "rf_pred"
   ]
  },
  {
   "cell_type": "markdown",
   "metadata": {},
   "source": [
    "**Root mean squared error and mean absolute error**"
   ]
  },
  {
   "cell_type": "code",
   "execution_count": 55,
   "metadata": {},
   "outputs": [
    {
     "name": "stdout",
     "output_type": "stream",
     "text": [
      "Root mean square error : 632.5709877795067\n",
      "Mean absolute error : 422.0464318181818\n"
     ]
    }
   ],
   "source": [
    "#Root mean square error\n",
    "rmse = math.sqrt(metrics.mean_squared_error(y_test,rf_pred))\n",
    "print('Root mean square error :',rmse)\n",
    "#Mean absolute error\n",
    "mae=metrics.mean_absolute_error(y_test,rf_pred)\n",
    "print('Mean absolute error :',mae)"
   ]
  },
  {
   "cell_type": "markdown",
   "metadata": {},
   "source": [
    "**Residual plot**"
   ]
  },
  {
   "cell_type": "code",
   "execution_count": 56,
   "metadata": {},
   "outputs": [
    {
     "data": {
      "image/png": "[encoded data removed]",
      "text/plain": [
       "<Figure size 1080x576 with 1 Axes>"
      ]
     },
     "metadata": {},
     "output_type": "display_data"
    }
   ],
   "source": [
    "#Residual scatter plot\n",
    "fig, ax = plt.subplots(figsize=(15,8))\n",
    "residuals=y_test-rf_pred\n",
    "ax.scatter(y_test, residuals)\n",
    "ax.axhline(lw=2,color='black')\n",
    "ax.set_xlabel('Observed')\n",
    "ax.set_ylabel('Residuals')\n",
    "ax.set_title('Residual plot')\n",
    "plt.show()"
   ]
  },
  {
   "cell_type": "markdown",
   "metadata": {},
   "source": [
    "Cross validation prediction plot tells about finite variance between actual target value and predicted target value.In this plot,some data points are have same finite variance between them and for some are not have it."
   ]
  },
  {
   "cell_type": "markdown",
   "metadata": {},
   "source": [
    "**Final model for predicting the bike rental count on daily basis**"
   ]
  },
  {
   "cell_type": "markdown",
   "metadata": {},
   "source": [
    "When we compare the root mean squared error and mean absolute error of all 3 models, the random forest model has less root mean squared error and mean absolute error. So, finally random forest model is bset for predicting the bike rental count on daily basis."
   ]
  },
  {
   "cell_type": "code",
   "execution_count": 57,
   "metadata": {},
   "outputs": [
    {
     "data": {
      "text/html": [
       "<div>\n",
       "<style scoped>\n",
       "    .dataframe tbody tr th:only-of-type {\n",
       "        vertical-align: middle;\n",
       "    }\n",
       "\n",
       "    .dataframe tbody tr th {\n",
       "        vertical-align: top;\n",
       "    }\n",
       "\n",
       "    .dataframe thead th {\n",
       "        text-align: right;\n",
       "    }\n",
       "</style>\n",
       "<table border=\"1\" class=\"dataframe\">\n",
       "  <thead>\n",
       "    <tr style=\"text-align: right;\">\n",
       "      <th></th>\n",
       "      <th>y_test</th>\n",
       "      <th>rf_pred</th>\n",
       "    </tr>\n",
       "  </thead>\n",
       "  <tbody>\n",
       "    <tr>\n",
       "      <th>0</th>\n",
       "      <td>6606</td>\n",
       "      <td>6634.725</td>\n",
       "    </tr>\n",
       "    <tr>\n",
       "      <th>1</th>\n",
       "      <td>1550</td>\n",
       "      <td>1561.550</td>\n",
       "    </tr>\n",
       "    <tr>\n",
       "      <th>2</th>\n",
       "      <td>3747</td>\n",
       "      <td>3400.630</td>\n",
       "    </tr>\n",
       "    <tr>\n",
       "      <th>3</th>\n",
       "      <td>6041</td>\n",
       "      <td>5116.625</td>\n",
       "    </tr>\n",
       "    <tr>\n",
       "      <th>4</th>\n",
       "      <td>7538</td>\n",
       "      <td>7484.220</td>\n",
       "    </tr>\n",
       "    <tr>\n",
       "      <th>5</th>\n",
       "      <td>7264</td>\n",
       "      <td>7225.875</td>\n",
       "    </tr>\n",
       "    <tr>\n",
       "      <th>6</th>\n",
       "      <td>1605</td>\n",
       "      <td>1498.200</td>\n",
       "    </tr>\n",
       "    <tr>\n",
       "      <th>7</th>\n",
       "      <td>2209</td>\n",
       "      <td>2243.790</td>\n",
       "    </tr>\n",
       "    <tr>\n",
       "      <th>8</th>\n",
       "      <td>7499</td>\n",
       "      <td>7315.155</td>\n",
       "    </tr>\n",
       "    <tr>\n",
       "      <th>9</th>\n",
       "      <td>5743</td>\n",
       "      <td>6438.305</td>\n",
       "    </tr>\n",
       "    <tr>\n",
       "      <th>10</th>\n",
       "      <td>1796</td>\n",
       "      <td>2249.845</td>\n",
       "    </tr>\n",
       "    <tr>\n",
       "      <th>11</th>\n",
       "      <td>3068</td>\n",
       "      <td>2937.900</td>\n",
       "    </tr>\n",
       "    <tr>\n",
       "      <th>12</th>\n",
       "      <td>4891</td>\n",
       "      <td>5001.750</td>\n",
       "    </tr>\n",
       "    <tr>\n",
       "      <th>13</th>\n",
       "      <td>5260</td>\n",
       "      <td>5009.865</td>\n",
       "    </tr>\n",
       "    <tr>\n",
       "      <th>14</th>\n",
       "      <td>2133</td>\n",
       "      <td>2159.680</td>\n",
       "    </tr>\n",
       "    <tr>\n",
       "      <th>15</th>\n",
       "      <td>2471</td>\n",
       "      <td>2146.285</td>\n",
       "    </tr>\n",
       "    <tr>\n",
       "      <th>16</th>\n",
       "      <td>2046</td>\n",
       "      <td>2281.600</td>\n",
       "    </tr>\n",
       "    <tr>\n",
       "      <th>17</th>\n",
       "      <td>8156</td>\n",
       "      <td>7834.785</td>\n",
       "    </tr>\n",
       "    <tr>\n",
       "      <th>18</th>\n",
       "      <td>5362</td>\n",
       "      <td>5020.205</td>\n",
       "    </tr>\n",
       "    <tr>\n",
       "      <th>19</th>\n",
       "      <td>2298</td>\n",
       "      <td>2438.760</td>\n",
       "    </tr>\n",
       "    <tr>\n",
       "      <th>20</th>\n",
       "      <td>7697</td>\n",
       "      <td>7479.870</td>\n",
       "    </tr>\n",
       "    <tr>\n",
       "      <th>21</th>\n",
       "      <td>5463</td>\n",
       "      <td>6023.045</td>\n",
       "    </tr>\n",
       "    <tr>\n",
       "      <th>22</th>\n",
       "      <td>5409</td>\n",
       "      <td>5858.995</td>\n",
       "    </tr>\n",
       "    <tr>\n",
       "      <th>23</th>\n",
       "      <td>1872</td>\n",
       "      <td>1769.425</td>\n",
       "    </tr>\n",
       "    <tr>\n",
       "      <th>24</th>\n",
       "      <td>1807</td>\n",
       "      <td>1733.535</td>\n",
       "    </tr>\n",
       "    <tr>\n",
       "      <th>25</th>\n",
       "      <td>5130</td>\n",
       "      <td>4739.650</td>\n",
       "    </tr>\n",
       "    <tr>\n",
       "      <th>26</th>\n",
       "      <td>2121</td>\n",
       "      <td>1837.290</td>\n",
       "    </tr>\n",
       "    <tr>\n",
       "      <th>27</th>\n",
       "      <td>7436</td>\n",
       "      <td>7187.085</td>\n",
       "    </tr>\n",
       "    <tr>\n",
       "      <th>28</th>\n",
       "      <td>3830</td>\n",
       "      <td>3167.315</td>\n",
       "    </tr>\n",
       "    <tr>\n",
       "      <th>29</th>\n",
       "      <td>5557</td>\n",
       "      <td>5767.195</td>\n",
       "    </tr>\n",
       "    <tr>\n",
       "      <th>...</th>\n",
       "      <td>...</td>\n",
       "      <td>...</td>\n",
       "    </tr>\n",
       "    <tr>\n",
       "      <th>190</th>\n",
       "      <td>7665</td>\n",
       "      <td>7394.250</td>\n",
       "    </tr>\n",
       "    <tr>\n",
       "      <th>191</th>\n",
       "      <td>3005</td>\n",
       "      <td>3611.475</td>\n",
       "    </tr>\n",
       "    <tr>\n",
       "      <th>192</th>\n",
       "      <td>4195</td>\n",
       "      <td>4102.630</td>\n",
       "    </tr>\n",
       "    <tr>\n",
       "      <th>193</th>\n",
       "      <td>5026</td>\n",
       "      <td>6282.750</td>\n",
       "    </tr>\n",
       "    <tr>\n",
       "      <th>194</th>\n",
       "      <td>2210</td>\n",
       "      <td>1974.535</td>\n",
       "    </tr>\n",
       "    <tr>\n",
       "      <th>195</th>\n",
       "      <td>1685</td>\n",
       "      <td>1675.225</td>\n",
       "    </tr>\n",
       "    <tr>\n",
       "      <th>196</th>\n",
       "      <td>3606</td>\n",
       "      <td>3883.165</td>\n",
       "    </tr>\n",
       "    <tr>\n",
       "      <th>197</th>\n",
       "      <td>1834</td>\n",
       "      <td>3889.325</td>\n",
       "    </tr>\n",
       "    <tr>\n",
       "      <th>198</th>\n",
       "      <td>1096</td>\n",
       "      <td>1006.160</td>\n",
       "    </tr>\n",
       "    <tr>\n",
       "      <th>199</th>\n",
       "      <td>5191</td>\n",
       "      <td>5109.730</td>\n",
       "    </tr>\n",
       "    <tr>\n",
       "      <th>200</th>\n",
       "      <td>4845</td>\n",
       "      <td>4596.150</td>\n",
       "    </tr>\n",
       "    <tr>\n",
       "      <th>201</th>\n",
       "      <td>6169</td>\n",
       "      <td>5774.105</td>\n",
       "    </tr>\n",
       "    <tr>\n",
       "      <th>202</th>\n",
       "      <td>5532</td>\n",
       "      <td>5195.750</td>\n",
       "    </tr>\n",
       "    <tr>\n",
       "      <th>203</th>\n",
       "      <td>5119</td>\n",
       "      <td>5128.410</td>\n",
       "    </tr>\n",
       "    <tr>\n",
       "      <th>204</th>\n",
       "      <td>4073</td>\n",
       "      <td>5047.865</td>\n",
       "    </tr>\n",
       "    <tr>\n",
       "      <th>205</th>\n",
       "      <td>2710</td>\n",
       "      <td>2935.140</td>\n",
       "    </tr>\n",
       "    <tr>\n",
       "      <th>206</th>\n",
       "      <td>8120</td>\n",
       "      <td>7304.770</td>\n",
       "    </tr>\n",
       "    <tr>\n",
       "      <th>207</th>\n",
       "      <td>2423</td>\n",
       "      <td>1837.990</td>\n",
       "    </tr>\n",
       "    <tr>\n",
       "      <th>208</th>\n",
       "      <td>7444</td>\n",
       "      <td>6371.935</td>\n",
       "    </tr>\n",
       "    <tr>\n",
       "      <th>209</th>\n",
       "      <td>6660</td>\n",
       "      <td>6467.275</td>\n",
       "    </tr>\n",
       "    <tr>\n",
       "      <th>210</th>\n",
       "      <td>7534</td>\n",
       "      <td>6848.105</td>\n",
       "    </tr>\n",
       "    <tr>\n",
       "      <th>211</th>\n",
       "      <td>3846</td>\n",
       "      <td>3782.580</td>\n",
       "    </tr>\n",
       "    <tr>\n",
       "      <th>212</th>\n",
       "      <td>5558</td>\n",
       "      <td>5541.060</td>\n",
       "    </tr>\n",
       "    <tr>\n",
       "      <th>213</th>\n",
       "      <td>3422</td>\n",
       "      <td>2966.965</td>\n",
       "    </tr>\n",
       "    <tr>\n",
       "      <th>214</th>\n",
       "      <td>5305</td>\n",
       "      <td>4948.220</td>\n",
       "    </tr>\n",
       "    <tr>\n",
       "      <th>215</th>\n",
       "      <td>2659</td>\n",
       "      <td>3993.425</td>\n",
       "    </tr>\n",
       "    <tr>\n",
       "      <th>216</th>\n",
       "      <td>7338</td>\n",
       "      <td>7285.165</td>\n",
       "    </tr>\n",
       "    <tr>\n",
       "      <th>217</th>\n",
       "      <td>6978</td>\n",
       "      <td>6804.625</td>\n",
       "    </tr>\n",
       "    <tr>\n",
       "      <th>218</th>\n",
       "      <td>4795</td>\n",
       "      <td>3486.755</td>\n",
       "    </tr>\n",
       "    <tr>\n",
       "      <th>219</th>\n",
       "      <td>3855</td>\n",
       "      <td>3865.505</td>\n",
       "    </tr>\n",
       "  </tbody>\n",
       "</table>\n",
       "<p>220 rows × 2 columns</p>\n",
       "</div>"
      ],
      "text/plain": [
       "     y_test   rf_pred\n",
       "0      6606  6634.725\n",
       "1      1550  1561.550\n",
       "2      3747  3400.630\n",
       "3      6041  5116.625\n",
       "4      7538  7484.220\n",
       "5      7264  7225.875\n",
       "6      1605  1498.200\n",
       "7      2209  2243.790\n",
       "8      7499  7315.155\n",
       "9      5743  6438.305\n",
       "10     1796  2249.845\n",
       "11     3068  2937.900\n",
       "12     4891  5001.750\n",
       "13     5260  5009.865\n",
       "14     2133  2159.680\n",
       "15     2471  2146.285\n",
       "16     2046  2281.600\n",
       "17     8156  7834.785\n",
       "18     5362  5020.205\n",
       "19     2298  2438.760\n",
       "20     7697  7479.870\n",
       "21     5463  6023.045\n",
       "22     5409  5858.995\n",
       "23     1872  1769.425\n",
       "24     1807  1733.535\n",
       "25     5130  4739.650\n",
       "26     2121  1837.290\n",
       "27     7436  7187.085\n",
       "28     3830  3167.315\n",
       "29     5557  5767.195\n",
       "..      ...       ...\n",
       "190    7665  7394.250\n",
       "191    3005  3611.475\n",
       "192    4195  4102.630\n",
       "193    5026  6282.750\n",
       "194    2210  1974.535\n",
       "195    1685  1675.225\n",
       "196    3606  3883.165\n",
       "197    1834  3889.325\n",
       "198    1096  1006.160\n",
       "199    5191  5109.730\n",
       "200    4845  4596.150\n",
       "201    6169  5774.105\n",
       "202    5532  5195.750\n",
       "203    5119  5128.410\n",
       "204    4073  5047.865\n",
       "205    2710  2935.140\n",
       "206    8120  7304.770\n",
       "207    2423  1837.990\n",
       "208    7444  6371.935\n",
       "209    6660  6467.275\n",
       "210    7534  6848.105\n",
       "211    3846  3782.580\n",
       "212    5558  5541.060\n",
       "213    3422  2966.965\n",
       "214    5305  4948.220\n",
       "215    2659  3993.425\n",
       "216    7338  7285.165\n",
       "217    6978  6804.625\n",
       "218    4795  3486.755\n",
       "219    3855  3865.505\n",
       "\n",
       "[220 rows x 2 columns]"
      ]
     },
     "execution_count": 57,
     "metadata": {},
     "output_type": "execute_result"
    }
   ],
   "source": [
    "Bike_df1=pd.DataFrame(y_test,columns=['y_test'])\n",
    "Bike_df2=pd.DataFrame(rf_pred,columns=['rf_pred'])\n",
    "Bike_predictions=pd.merge(Bike_df1,Bike_df2,left_index=True,right_index=True)\n",
    "Bike_predictions.to_csv('Bike_Renting_Python.csv')\n",
    "Bike_predictions"
   ]
  }
 ],
 "metadata": {
  "kernelspec": {
   "display_name": "Python 3",
   "language": "python",
   "name": "python3"
  },
  "language_info": {
   "codemirror_mode": {
    "name": "ipython",
    "version": 3
   },
   "file_extension": ".py",
   "mimetype": "text/x-python",
   "name": "python",
   "nbconvert_exporter": "python",
   "pygments_lexer": "ipython3",
   "version": "3.6.4"
  }
 },
 "nbformat": 4,
 "nbformat_minor": 1
}
